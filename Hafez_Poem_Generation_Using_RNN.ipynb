{
  "nbformat": 4,
  "nbformat_minor": 0,
  "metadata": {
    "colab": {
      "provenance": [],
      "authorship_tag": "ABX9TyOG1CBt8w1yPO0XWgQ65xCK",
      "include_colab_link": true
    },
    "kernelspec": {
      "name": "python3",
      "display_name": "Python 3"
    },
    "language_info": {
      "name": "python"
    }
  },
  "cells": [
    {
      "cell_type": "markdown",
      "metadata": {
        "id": "view-in-github",
        "colab_type": "text"
      },
      "source": [
        "<a href=\"https://colab.research.google.com/github/mojgan65/Poem-Generation/blob/main/Hafez_Poem_Generation_Using_RNN.ipynb\" target=\"_parent\"><img src=\"https://colab.research.google.com/assets/colab-badge.svg\" alt=\"Open In Colab\"/></a>"
      ]
    },
    {
      "cell_type": "markdown",
      "source": [
        "This file generate Hafez poems"
      ],
      "metadata": {
        "id": "fpRxK84xQHX_"
      }
    },
    {
      "cell_type": "markdown",
      "metadata": {
        "id": "WGyKZj3bzf9p"
      },
      "source": [
        "### Import TensorFlow and other libraries"
      ]
    },
    {
      "cell_type": "code",
      "execution_count": null,
      "metadata": {
        "id": "nj3sFBw_QS6P"
      },
      "outputs": [],
      "source": [
        "from __future__ import absolute_import, division, print_function, unicode_literals\n",
        "\n",
        "import tensorflow as tf\n",
        "# tf.enable_eager_execution()\n",
        "\n",
        "import numpy as np\n",
        "import os\n",
        "import time\n",
        "import glob"
      ]
    },
    {
      "cell_type": "code",
      "source": [
        "from google.colab import files\n",
        "uploaded = files.upload()"
      ],
      "metadata": {
        "colab": {
          "base_uri": "https://localhost:8080/",
          "height": 73
        },
        "outputId": "d52d7f46-f2d0-437e-cfa3-4049fce429a4",
        "id": "TSv5DYYSQS6P"
      },
      "execution_count": null,
      "outputs": [
        {
          "output_type": "display_data",
          "data": {
            "text/plain": [
              "<IPython.core.display.HTML object>"
            ],
            "text/html": [
              "\n",
              "     <input type=\"file\" id=\"files-26d573af-10dc-401a-9736-e6a12e3578ee\" name=\"files[]\" multiple disabled\n",
              "        style=\"border:none\" />\n",
              "     <output id=\"result-26d573af-10dc-401a-9736-e6a12e3578ee\">\n",
              "      Upload widget is only available when the cell has been executed in the\n",
              "      current browser session. Please rerun this cell to enable.\n",
              "      </output>\n",
              "      <script>// Copyright 2017 Google LLC\n",
              "//\n",
              "// Licensed under the Apache License, Version 2.0 (the \"License\");\n",
              "// you may not use this file except in compliance with the License.\n",
              "// You may obtain a copy of the License at\n",
              "//\n",
              "//      http://www.apache.org/licenses/LICENSE-2.0\n",
              "//\n",
              "// Unless required by applicable law or agreed to in writing, software\n",
              "// distributed under the License is distributed on an \"AS IS\" BASIS,\n",
              "// WITHOUT WARRANTIES OR CONDITIONS OF ANY KIND, either express or implied.\n",
              "// See the License for the specific language governing permissions and\n",
              "// limitations under the License.\n",
              "\n",
              "/**\n",
              " * @fileoverview Helpers for google.colab Python module.\n",
              " */\n",
              "(function(scope) {\n",
              "function span(text, styleAttributes = {}) {\n",
              "  const element = document.createElement('span');\n",
              "  element.textContent = text;\n",
              "  for (const key of Object.keys(styleAttributes)) {\n",
              "    element.style[key] = styleAttributes[key];\n",
              "  }\n",
              "  return element;\n",
              "}\n",
              "\n",
              "// Max number of bytes which will be uploaded at a time.\n",
              "const MAX_PAYLOAD_SIZE = 100 * 1024;\n",
              "\n",
              "function _uploadFiles(inputId, outputId) {\n",
              "  const steps = uploadFilesStep(inputId, outputId);\n",
              "  const outputElement = document.getElementById(outputId);\n",
              "  // Cache steps on the outputElement to make it available for the next call\n",
              "  // to uploadFilesContinue from Python.\n",
              "  outputElement.steps = steps;\n",
              "\n",
              "  return _uploadFilesContinue(outputId);\n",
              "}\n",
              "\n",
              "// This is roughly an async generator (not supported in the browser yet),\n",
              "// where there are multiple asynchronous steps and the Python side is going\n",
              "// to poll for completion of each step.\n",
              "// This uses a Promise to block the python side on completion of each step,\n",
              "// then passes the result of the previous step as the input to the next step.\n",
              "function _uploadFilesContinue(outputId) {\n",
              "  const outputElement = document.getElementById(outputId);\n",
              "  const steps = outputElement.steps;\n",
              "\n",
              "  const next = steps.next(outputElement.lastPromiseValue);\n",
              "  return Promise.resolve(next.value.promise).then((value) => {\n",
              "    // Cache the last promise value to make it available to the next\n",
              "    // step of the generator.\n",
              "    outputElement.lastPromiseValue = value;\n",
              "    return next.value.response;\n",
              "  });\n",
              "}\n",
              "\n",
              "/**\n",
              " * Generator function which is called between each async step of the upload\n",
              " * process.\n",
              " * @param {string} inputId Element ID of the input file picker element.\n",
              " * @param {string} outputId Element ID of the output display.\n",
              " * @return {!Iterable<!Object>} Iterable of next steps.\n",
              " */\n",
              "function* uploadFilesStep(inputId, outputId) {\n",
              "  const inputElement = document.getElementById(inputId);\n",
              "  inputElement.disabled = false;\n",
              "\n",
              "  const outputElement = document.getElementById(outputId);\n",
              "  outputElement.innerHTML = '';\n",
              "\n",
              "  const pickedPromise = new Promise((resolve) => {\n",
              "    inputElement.addEventListener('change', (e) => {\n",
              "      resolve(e.target.files);\n",
              "    });\n",
              "  });\n",
              "\n",
              "  const cancel = document.createElement('button');\n",
              "  inputElement.parentElement.appendChild(cancel);\n",
              "  cancel.textContent = 'Cancel upload';\n",
              "  const cancelPromise = new Promise((resolve) => {\n",
              "    cancel.onclick = () => {\n",
              "      resolve(null);\n",
              "    };\n",
              "  });\n",
              "\n",
              "  // Wait for the user to pick the files.\n",
              "  const files = yield {\n",
              "    promise: Promise.race([pickedPromise, cancelPromise]),\n",
              "    response: {\n",
              "      action: 'starting',\n",
              "    }\n",
              "  };\n",
              "\n",
              "  cancel.remove();\n",
              "\n",
              "  // Disable the input element since further picks are not allowed.\n",
              "  inputElement.disabled = true;\n",
              "\n",
              "  if (!files) {\n",
              "    return {\n",
              "      response: {\n",
              "        action: 'complete',\n",
              "      }\n",
              "    };\n",
              "  }\n",
              "\n",
              "  for (const file of files) {\n",
              "    const li = document.createElement('li');\n",
              "    li.append(span(file.name, {fontWeight: 'bold'}));\n",
              "    li.append(span(\n",
              "        `(${file.type || 'n/a'}) - ${file.size} bytes, ` +\n",
              "        `last modified: ${\n",
              "            file.lastModifiedDate ? file.lastModifiedDate.toLocaleDateString() :\n",
              "                                    'n/a'} - `));\n",
              "    const percent = span('0% done');\n",
              "    li.appendChild(percent);\n",
              "\n",
              "    outputElement.appendChild(li);\n",
              "\n",
              "    const fileDataPromise = new Promise((resolve) => {\n",
              "      const reader = new FileReader();\n",
              "      reader.onload = (e) => {\n",
              "        resolve(e.target.result);\n",
              "      };\n",
              "      reader.readAsArrayBuffer(file);\n",
              "    });\n",
              "    // Wait for the data to be ready.\n",
              "    let fileData = yield {\n",
              "      promise: fileDataPromise,\n",
              "      response: {\n",
              "        action: 'continue',\n",
              "      }\n",
              "    };\n",
              "\n",
              "    // Use a chunked sending to avoid message size limits. See b/62115660.\n",
              "    let position = 0;\n",
              "    do {\n",
              "      const length = Math.min(fileData.byteLength - position, MAX_PAYLOAD_SIZE);\n",
              "      const chunk = new Uint8Array(fileData, position, length);\n",
              "      position += length;\n",
              "\n",
              "      const base64 = btoa(String.fromCharCode.apply(null, chunk));\n",
              "      yield {\n",
              "        response: {\n",
              "          action: 'append',\n",
              "          file: file.name,\n",
              "          data: base64,\n",
              "        },\n",
              "      };\n",
              "\n",
              "      let percentDone = fileData.byteLength === 0 ?\n",
              "          100 :\n",
              "          Math.round((position / fileData.byteLength) * 100);\n",
              "      percent.textContent = `${percentDone}% done`;\n",
              "\n",
              "    } while (position < fileData.byteLength);\n",
              "  }\n",
              "\n",
              "  // All done.\n",
              "  yield {\n",
              "    response: {\n",
              "      action: 'complete',\n",
              "    }\n",
              "  };\n",
              "}\n",
              "\n",
              "scope.google = scope.google || {};\n",
              "scope.google.colab = scope.google.colab || {};\n",
              "scope.google.colab._files = {\n",
              "  _uploadFiles,\n",
              "  _uploadFilesContinue,\n",
              "};\n",
              "})(self);\n",
              "</script> "
            ]
          },
          "metadata": {}
        },
        {
          "output_type": "stream",
          "name": "stdout",
          "text": [
            "Saving hafez.txt to hafez.txt\n"
          ]
        }
      ]
    },
    {
      "cell_type": "code",
      "source": [
        "path_to_file = 'hafez.txt'"
      ],
      "metadata": {
        "id": "OzT_kv8qQS6R"
      },
      "execution_count": null,
      "outputs": []
    },
    {
      "cell_type": "markdown",
      "metadata": {
        "id": "c7k11EzWQS6R"
      },
      "source": [
        "### Read the data\n",
        "\n",
        "First, look in the text."
      ]
    },
    {
      "cell_type": "code",
      "execution_count": null,
      "metadata": {
        "colab": {
          "base_uri": "https://localhost:8080/"
        },
        "outputId": "e13a80b2-5d37-4ed2-af2b-588bfd7a5439",
        "id": "N9WwAa4ZQS6S"
      },
      "outputs": [
        {
          "output_type": "stream",
          "name": "stdout",
          "text": [
            "Length of text: 296677 characters\n",
            "48 unique characters\n"
          ]
        }
      ],
      "source": [
        "# Read, then decode for py2 compat.\n",
        "# text = open('poems', 'rb').read().decode(encoding='utf-8')\n",
        "text = open(path_to_file, 'rb').read().decode(encoding='utf-8')\n",
        "\n",
        "  \n",
        "# length of text is the number of characters in it\n",
        "print ('Length of text: {} characters'.format(len(text)))\n",
        "\n",
        "# remove some exteranous chars \n",
        "execluded = '!()*-.1:=[]«»;؛,،~?؟#\\u200f\\ufeff'\n",
        "out = \"\"\n",
        "\n",
        "\n",
        "for char in text:\n",
        "  if char not in execluded:\n",
        "    out += char\n",
        "text = out\n",
        "text = text.replace(\"\\t\\t\\t\", \"\\t\")\n",
        "text = text.replace(\"\\r\\r\\n\", \"\\n\")\n",
        "text = text.replace(\"\\r\\n\",\"\\n\")\n",
        "text = text.replace(\"\\t\\n\", \"\\n\")\n",
        "text = text.replace(\"\\n\\n\", \"\\n\")\n",
        "text = '\\n'.join(line for line in text.split('\\n') if len(line) >= 7)\n",
        "\n",
        "\n",
        "vocab = sorted(set(text))\n",
        "print ('{} unique characters'.format(len(vocab)))"
      ]
    },
    {
      "cell_type": "code",
      "execution_count": null,
      "metadata": {
        "colab": {
          "base_uri": "https://localhost:8080/"
        },
        "outputId": "ed2b26a3-220a-4b86-d742-326c4d080caf",
        "id": "byx0LLtEQS6S"
      },
      "outputs": [
        {
          "output_type": "stream",
          "name": "stdout",
          "text": [
            "الا يا ايها الساقی ادر کاسا و ناولها\n",
            "که عشق آسان نمود اول ولی افتاد مشکل‌ها\n",
            "به بوی نافه‌ای کاخر صبا زان طره بگشايد\n",
            "ز تاب جعد مشکينش چه خون افتاد در دل‌ها\n",
            "مرا در منزل جانان چه امن عيش چون هر دم\n",
            "جرس فرياد می‌دارد که بربنديد محمل‌ها\n",
            "به می سجاده رنگين کن\n"
          ]
        }
      ],
      "source": [
        "# Take a look at the first 250 characters in text\n",
        "print(text[:250])"
      ]
    },
    {
      "cell_type": "markdown",
      "metadata": {
        "id": "OW8a6XtqQS6S"
      },
      "source": [
        "## Process the text"
      ]
    },
    {
      "cell_type": "markdown",
      "metadata": {
        "id": "RwSa6PfHQS6T"
      },
      "source": [
        "### Vectorize the text\n",
        "\n",
        "Before training, we need to map strings to a numerical representation. Create two lookup tables: one mapping characters to numbers, and another for numbers to characters."
      ]
    },
    {
      "cell_type": "code",
      "execution_count": null,
      "metadata": {
        "id": "4MfEBsBDQS6T"
      },
      "outputs": [],
      "source": [
        "# Creating a mapping from unique characters to indices\n",
        "char2idx = {u:i for i, u in enumerate(vocab)}\n",
        "idx2char = np.array(vocab)\n",
        "\n",
        "text_as_int = np.array([char2idx[c] for c in text])"
      ]
    },
    {
      "cell_type": "markdown",
      "metadata": {
        "id": "uG6Jq7PoQS6T"
      },
      "source": [
        "Now we have an integer representation for each character. Notice that we mapped the character as indexes from 0 to `len(unique)`."
      ]
    },
    {
      "cell_type": "code",
      "execution_count": null,
      "metadata": {
        "colab": {
          "base_uri": "https://localhost:8080/"
        },
        "outputId": "d9144482-77c5-461e-928e-c3e119384af2",
        "id": "jbYvW35vQS6T"
      },
      "outputs": [
        {
          "output_type": "stream",
          "name": "stdout",
          "text": [
            "{\n",
            "  '\\n':   0,\n",
            "  ' ' :   1,\n",
            "  'Y' :   2,\n",
            "  'آ' :   3,\n",
            "  'ا' :   4,\n",
            "  'ب' :   5,\n",
            "  'ت' :   6,\n",
            "  'ث' :   7,\n",
            "  'ج' :   8,\n",
            "  'ح' :   9,\n",
            "  'خ' :  10,\n",
            "  'د' :  11,\n",
            "  'ذ' :  12,\n",
            "  'ر' :  13,\n",
            "  'ز' :  14,\n",
            "  'س' :  15,\n",
            "  'ش' :  16,\n",
            "  'ص' :  17,\n",
            "  'ض' :  18,\n",
            "  'ط' :  19,\n",
            "  ...\n",
            "}\n"
          ]
        }
      ],
      "source": [
        "print('{')\n",
        "for char,_ in zip(char2idx, range(20)):\n",
        "    print('  {:4s}: {:3d},'.format(repr(char), char2idx[char]))\n",
        "print('  ...\\n}')"
      ]
    },
    {
      "cell_type": "code",
      "execution_count": null,
      "metadata": {
        "colab": {
          "base_uri": "https://localhost:8080/"
        },
        "outputId": "ae3c36bd-3068-4f22-d615-5729af55f8ae",
        "id": "eElF6vOoQS6U"
      },
      "outputs": [
        {
          "output_type": "stream",
          "name": "stdout",
          "text": [
            "'الا يا ايها ا' ---- characters mapped to int ---- > [ 4 25  4  1 30  4  1  4 30 28  4  1  4]\n"
          ]
        }
      ],
      "source": [
        "# Show how the first 13 characters from the text are mapped to integers\n",
        "print ('{} ---- characters mapped to int ---- > {}'.format(repr(text[:13]), text_as_int[:13]))"
      ]
    },
    {
      "cell_type": "markdown",
      "metadata": {
        "id": "yLsv3KMvQS6U"
      },
      "source": [
        "### The prediction task"
      ]
    },
    {
      "cell_type": "markdown",
      "metadata": {
        "id": "FnhojFCMQS6U"
      },
      "source": [
        "Given a character, or a sequence of characters, what is the most probable next character? This is the task we're training the model to perform. The input to the model will be a sequence of characters, and we train the model to predict the output—the following character at each time step.\n",
        "\n",
        "Since RNNs maintain an internal state that depends on the previously seen elements, given all the characters computed until this moment, what is the next character?\n"
      ]
    },
    {
      "cell_type": "markdown",
      "metadata": {
        "id": "TaSufE6XQS6V"
      },
      "source": [
        "### Create training examples and targets\n",
        "\n",
        "Next divide the text into example sequences. Each input sequence will contain `seq_length` characters from the text.\n",
        "\n",
        "For each input sequence, the corresponding targets contain the same length of text, except shifted one character to the right.\n",
        "\n",
        "So break the text into chunks of `seq_length+1`. For example, say `seq_length` is 4 and our text is \"Hello\". The input sequence would be \"Hell\", and the target sequence \"ello\".\n",
        "\n",
        "To do this first use the `tf.data.Dataset.from_tensor_slices` function to convert the text vector into a stream of character indices."
      ]
    },
    {
      "cell_type": "code",
      "execution_count": null,
      "metadata": {
        "colab": {
          "base_uri": "https://localhost:8080/"
        },
        "outputId": "a9788118-e89e-4f6d-8fd5-8954073a9ae2",
        "id": "tWxcCNGAQS6V"
      },
      "outputs": [
        {
          "output_type": "stream",
          "name": "stdout",
          "text": [
            "ا\n",
            "ل\n",
            "ا\n",
            " \n",
            "ي\n"
          ]
        }
      ],
      "source": [
        "# The maximum length sentence we want for a single input in characters\n",
        "seq_length = 200\n",
        "examples_per_epoch = len(text)//seq_length\n",
        "\n",
        "# Create training examples / targets\n",
        "char_dataset = tf.data.Dataset.from_tensor_slices(text_as_int)\n",
        "\n",
        "for i in char_dataset.take(5):\n",
        "  print(idx2char[i.numpy()])"
      ]
    },
    {
      "cell_type": "markdown",
      "metadata": {
        "id": "kGHYKAcdQS6V"
      },
      "source": [
        "The `batch` method lets us easily convert these individual characters to sequences of the desired size."
      ]
    },
    {
      "cell_type": "code",
      "execution_count": null,
      "metadata": {
        "colab": {
          "base_uri": "https://localhost:8080/"
        },
        "outputId": "8924f198-5376-4aba-d4c9-0ad1ce52fcc4",
        "id": "MZWs5qLOQS6W"
      },
      "outputs": [
        {
          "output_type": "stream",
          "name": "stdout",
          "text": [
            "'الا يا ايها الساقی ادر کاسا و ناولها\\nکه عشق آسان نمود اول ولی افتاد مشکل\\u200cها\\nبه بوی نافه\\u200cای کاخر صبا زان طره بگشايد\\nز تاب جعد مشکينش چه خون افتاد در دل\\u200cها\\nمرا در منزل جانان چه امن عيش چون هر دم\\nجرس فريا'\n",
            "'د می\\u200cدارد که بربنديد محمل\\u200cها\\nبه می سجاده رنگين کن گرت پير مغان گويد\\nکه سالک بی\\u200cخبر نبود ز راه و رسم منزل\\u200cها\\nشب تاريک و بيم موج و گردابی چنين هايل\\nکجا دانند حال ما سبکباران ساحل\\u200cها\\nهمه کارم ز خود کامی ب'\n",
            "'ه بدنامی کشيد آخر\\nنهان کی ماند آن رازی کز او سازند محفل\\u200cها\\nحضوری گر همی\\u200cخواهی از او غايب مشو حافظ\\nمتی ما تلق من تهوی دع الدنيا و اهملها\\nصلاح کار کجا و من خراب کجا\\nببين تفاوت ره کز کجاست تا به کجا\\nدلم ز'\n",
            "' صومعه بگرفت و خرقه سالوس\\nکجاست دير مغان و شراب ناب کجا\\nچه نسبت است به رندی صلاح و تقوا را\\nسماع وعظ کجا نغمه رباب کجا\\nز روی دوست دل دشمنان چه دريابد\\nچراغ مرده کجا شمع آفتاب کجا\\nچو کحل بينش ما خاک آستان'\n",
            "' شماست\\nکجا رويم بفرما از اين جناب کجا\\nمبين به سيب زنخدان که چاه در راه است\\nکجا همی\\u200cروی ای دل بدين شتاب کجا\\nبشد که ياد خوشش باد روزگار وصال\\nخود آن کرشمه کجا رفت و آن عتاب کجا\\nقرار و خواب ز حافظ طمع مدار'\n"
          ]
        }
      ],
      "source": [
        "sequences = char_dataset.batch(seq_length+1, drop_remainder=True)\n",
        "\n",
        "for item in sequences.take(5):\n",
        "  print(repr(''.join(idx2char[item.numpy()])))"
      ]
    },
    {
      "cell_type": "markdown",
      "metadata": {
        "id": "YlxNJApmQS6W"
      },
      "source": [
        "For each sequence, duplicate and shift it to form the input and target text by using the `map` method to apply a simple function to each batch:"
      ]
    },
    {
      "cell_type": "code",
      "execution_count": null,
      "metadata": {
        "id": "VVOTd__jQS6W"
      },
      "outputs": [],
      "source": [
        "def split_input_target(chunk):\n",
        "    input_text = chunk[:-1]\n",
        "    target_text = chunk[1:]\n",
        "    return input_text, target_text\n",
        "\n",
        "dataset = sequences.map(split_input_target)"
      ]
    },
    {
      "cell_type": "markdown",
      "metadata": {
        "id": "i_x2j8qiQS6X"
      },
      "source": [
        "Print the first examples input and target values:"
      ]
    },
    {
      "cell_type": "code",
      "execution_count": null,
      "metadata": {
        "colab": {
          "base_uri": "https://localhost:8080/"
        },
        "outputId": "33ce143c-b551-41ab-a311-55957703efb7",
        "id": "Kr-gZy_lQS6X"
      },
      "outputs": [
        {
          "output_type": "stream",
          "name": "stdout",
          "text": [
            "Input data:  'الا يا ايها الساقی ادر کاسا و ناولها\\nکه عشق آسان نمود اول ولی افتاد مشکل\\u200cها\\nبه بوی نافه\\u200cای کاخر صبا زان طره بگشايد\\nز تاب جعد مشکينش چه خون افتاد در دل\\u200cها\\nمرا در منزل جانان چه امن عيش چون هر دم\\nجرس فري'\n",
            "Target data: 'لا يا ايها الساقی ادر کاسا و ناولها\\nکه عشق آسان نمود اول ولی افتاد مشکل\\u200cها\\nبه بوی نافه\\u200cای کاخر صبا زان طره بگشايد\\nز تاب جعد مشکينش چه خون افتاد در دل\\u200cها\\nمرا در منزل جانان چه امن عيش چون هر دم\\nجرس فريا'\n"
          ]
        }
      ],
      "source": [
        "for input_example, target_example in  dataset.take(1):\n",
        "  print ('Input data: ', repr(''.join(idx2char[input_example.numpy()])))\n",
        "  print ('Target data:', repr(''.join(idx2char[target_example.numpy()])))"
      ]
    },
    {
      "cell_type": "markdown",
      "metadata": {
        "id": "hOWxpYg8QS6Y"
      },
      "source": [
        "Each index of these vectors are processed as one time step. For the input at time step 0, the model receives the index for \"F\" and tries to predict the index for \"i\" as the next character. At the next timestep, it does the same thing but the `RNN` considers the previous step context in addition to the current input character."
      ]
    },
    {
      "cell_type": "code",
      "execution_count": null,
      "metadata": {
        "colab": {
          "base_uri": "https://localhost:8080/"
        },
        "outputId": "9dce2a02-74ba-41d4-db07-bd2b4083e81c",
        "id": "5BuksDBjQS6a"
      },
      "outputs": [
        {
          "output_type": "stream",
          "name": "stdout",
          "text": [
            "Step    0\n",
            "  input: 4 ('ا')\n",
            "  expected output: 25 ('ل')\n",
            "Step    1\n",
            "  input: 25 ('ل')\n",
            "  expected output: 4 ('ا')\n",
            "Step    2\n",
            "  input: 4 ('ا')\n",
            "  expected output: 1 (' ')\n",
            "Step    3\n",
            "  input: 1 (' ')\n",
            "  expected output: 30 ('ي')\n",
            "Step    4\n",
            "  input: 30 ('ي')\n",
            "  expected output: 4 ('ا')\n"
          ]
        }
      ],
      "source": [
        "for i, (input_idx, target_idx) in enumerate(zip(input_example[:5], target_example[:5])):\n",
        "    print(\"Step {:4d}\".format(i))\n",
        "    print(\"  input: {} ({:s})\".format(input_idx, repr(idx2char[input_idx])))\n",
        "    print(\"  expected output: {} ({:s})\".format(target_idx, repr(idx2char[target_idx])))"
      ]
    },
    {
      "cell_type": "markdown",
      "metadata": {
        "id": "Qt8eWhMEQS6b"
      },
      "source": [
        "### Create training batches\n",
        "\n",
        "We used `tf.data` to split the text into manageable sequences. But before feeding this data into the model, we need to shuffle the data and pack it into batches."
      ]
    },
    {
      "cell_type": "code",
      "execution_count": null,
      "metadata": {
        "colab": {
          "base_uri": "https://localhost:8080/"
        },
        "outputId": "bb9ba9cc-8745-4844-dd5a-c02435592764",
        "id": "E679srReQS6b"
      },
      "outputs": [
        {
          "output_type": "execute_result",
          "data": {
            "text/plain": [
              "<_BatchDataset element_spec=(TensorSpec(shape=(128, 200), dtype=tf.int64, name=None), TensorSpec(shape=(128, 200), dtype=tf.int64, name=None))>"
            ]
          },
          "metadata": {},
          "execution_count": 16
        }
      ],
      "source": [
        "# Batch size\n",
        "BATCH_SIZE = 128\n",
        "steps_per_epoch = examples_per_epoch//BATCH_SIZE\n",
        "\n",
        "# Buffer size to shuffle the dataset\n",
        "# (TF data is designed to work with possibly infinite sequences,\n",
        "# so it doesn't attempt to shuffle the entire sequence in memory. Instead,\n",
        "# it maintains a buffer in which it shuffles elements).\n",
        "BUFFER_SIZE = 10000\n",
        "\n",
        "dataset = dataset.shuffle(BUFFER_SIZE).batch(BATCH_SIZE, drop_remainder=True)\n",
        "\n",
        "dataset"
      ]
    },
    {
      "cell_type": "markdown",
      "metadata": {
        "id": "PWQ5-BnZQS6c"
      },
      "source": [
        "## Build The Model"
      ]
    },
    {
      "cell_type": "markdown",
      "metadata": {
        "id": "5uVlJToVQS6c"
      },
      "source": [
        "Use `tf.keras.Sequential` to define the model. For this simple example three layers are used to define our model:\n",
        "\n",
        "* `tf.keras.layers.Embedding`: The input layer. A trainable lookup table that will map the numbers of each character to a vector with `embedding_dim` dimensions;\n",
        "* `tf.keras.layers.GRU`: A type of RNN with size `units=rnn_units` (You can also use a LSTM layer here.)\n",
        "* `tf.keras.layers.Dense`: The output layer, with `vocab_size` outputs."
      ]
    },
    {
      "cell_type": "code",
      "execution_count": null,
      "metadata": {
        "id": "f4oFBzvsQS6c"
      },
      "outputs": [],
      "source": [
        "# Length of the vocabulary in chars\n",
        "vocab_size = len(vocab)\n",
        "\n",
        "# The embedding dimension\n",
        "embedding_dim = 256\n",
        "\n",
        "# Number of RNN units\n",
        "rnn_units = 1024"
      ]
    },
    {
      "cell_type": "markdown",
      "metadata": {
        "id": "Wb99W9XSQS6d"
      },
      "source": [
        "Next define a function to build the model."
      ]
    },
    {
      "cell_type": "code",
      "execution_count": null,
      "metadata": {
        "id": "Yhyn6qjNQS6d"
      },
      "outputs": [],
      "source": [
        "def build_model(vocab_size, embedding_dim, rnn_units, batch_size):\n",
        "  model = tf.keras.Sequential([\n",
        "    tf.keras.layers.Embedding(vocab_size, embedding_dim,\n",
        "                              batch_input_shape=[batch_size, None]),\n",
        "    tf.keras.layers.GRU(rnn_units,\n",
        "        return_sequences=True,\n",
        "        recurrent_initializer='glorot_uniform',\n",
        "        stateful=True),\n",
        "    tf.keras.layers.Dense(vocab_size)\n",
        "  ])\n",
        "  return model"
      ]
    },
    {
      "cell_type": "code",
      "execution_count": null,
      "metadata": {
        "id": "2V2MBvJ9QS6e"
      },
      "outputs": [],
      "source": [
        "model = build_model(\n",
        "  vocab_size = len(vocab),\n",
        "  embedding_dim=embedding_dim,\n",
        "  rnn_units=rnn_units,\n",
        "  batch_size=BATCH_SIZE)"
      ]
    },
    {
      "cell_type": "markdown",
      "metadata": {
        "id": "XgX7l62xQS6e"
      },
      "source": [
        "For each character the model looks up the embedding, runs the GRU one timestep with the embedding as input, and applies the dense layer to generate logits predicting the log-liklihood of the next character:\n",
        "\n",
        "![A drawing of the data passing through the model](https://tensorflow.org/tutorials/sequences/images/text_generation_training.png)"
      ]
    },
    {
      "cell_type": "markdown",
      "metadata": {
        "id": "S86GVmnPQS6e"
      },
      "source": [
        "## Try the model\n",
        "\n",
        "Now run the model to see that it behaves as expected.\n",
        "\n",
        "First check the shape of the output:"
      ]
    },
    {
      "cell_type": "code",
      "execution_count": null,
      "metadata": {
        "colab": {
          "base_uri": "https://localhost:8080/"
        },
        "outputId": "c26d42ac-d239-4751-b2f9-d814880eb79b",
        "id": "38oueUE_QS6f"
      },
      "outputs": [
        {
          "output_type": "stream",
          "name": "stdout",
          "text": [
            "(128, 200, 48) # (batch_size, sequence_length, vocab_size)\n"
          ]
        }
      ],
      "source": [
        "for input_example_batch, target_example_batch in dataset.take(1):\n",
        "  example_batch_predictions = model(input_example_batch)\n",
        "  print(example_batch_predictions.shape, \"# (batch_size, sequence_length, vocab_size)\")"
      ]
    },
    {
      "cell_type": "markdown",
      "metadata": {
        "id": "h9F1GelsQS6f"
      },
      "source": [
        "In the above example the sequence length of the input is `100` but the model can be run on inputs of any length:"
      ]
    },
    {
      "cell_type": "code",
      "execution_count": null,
      "metadata": {
        "colab": {
          "base_uri": "https://localhost:8080/"
        },
        "outputId": "da3b34cd-8ee7-4275-a017-58f432bcfdca",
        "id": "g92fEbayQS6g"
      },
      "outputs": [
        {
          "output_type": "stream",
          "name": "stdout",
          "text": [
            "Model: \"sequential\"\n",
            "_________________________________________________________________\n",
            " Layer (type)                Output Shape              Param #   \n",
            "=================================================================\n",
            " embedding (Embedding)       (128, None, 256)          12288     \n",
            "                                                                 \n",
            " gru (GRU)                   (128, None, 1024)         3938304   \n",
            "                                                                 \n",
            " dense (Dense)               (128, None, 48)           49200     \n",
            "                                                                 \n",
            "=================================================================\n",
            "Total params: 3,999,792\n",
            "Trainable params: 3,999,792\n",
            "Non-trainable params: 0\n",
            "_________________________________________________________________\n"
          ]
        }
      ],
      "source": [
        "model.summary()"
      ]
    },
    {
      "cell_type": "markdown",
      "metadata": {
        "id": "eUpBIdLUQS6g"
      },
      "source": [
        "To get actual predictions from the model we need to sample from the output distribution, to get actual character indices. This distribution is defined by the logits over the character vocabulary.\n",
        "\n",
        "Note: It is important to _sample_ from this distribution as taking the _argmax_ of the distribution can easily get the model stuck in a loop.\n",
        "\n",
        "Try it for the first example in the batch:"
      ]
    },
    {
      "cell_type": "code",
      "execution_count": null,
      "metadata": {
        "id": "P-2rz6U7QS6h"
      },
      "outputs": [],
      "source": [
        "sampled_indices = tf.random.categorical(example_batch_predictions[0], num_samples=1)\n",
        "sampled_indices = tf.squeeze(sampled_indices,axis=-1).numpy()"
      ]
    },
    {
      "cell_type": "markdown",
      "metadata": {
        "id": "RqHrBHkRQS6h"
      },
      "source": [
        "This gives us, at each timestep, a prediction of the next character index:"
      ]
    },
    {
      "cell_type": "code",
      "execution_count": null,
      "metadata": {
        "colab": {
          "base_uri": "https://localhost:8080/"
        },
        "outputId": "a0c1492c-ded5-4e6a-8133-aa504e5b2838",
        "id": "7Sh2c6xpQS6i"
      },
      "outputs": [
        {
          "output_type": "stream",
          "name": "stdout",
          "text": [
            "200\n"
          ]
        },
        {
          "output_type": "execute_result",
          "data": {
            "text/plain": [
              "array([ 2, 12, 21, 20, 15, 39, 41, 38,  2, 37, 39, 25,  1, 28, 31, 33, 37,\n",
              "       40,  3,  2, 27,  9, 15, 17, 41,  7,  7,  2, 13, 33,  2, 31, 25, 23,\n",
              "       39,  7,  8,  7, 26, 44, 26, 41, 10,  4, 47, 16,  7, 35, 18, 37,  7,\n",
              "       25, 20, 22, 16, 28, 40, 21, 15, 46, 33,  5, 42,  5, 13, 47,  1,  7,\n",
              "        3,  5, 32,  7, 38,  4,  8, 16, 28,  3,  8, 25, 35, 46,  8,  7, 23,\n",
              "       25, 38,  2, 13, 15,  5, 34, 22, 39, 36, 44, 33,  9, 42, 26,  4, 34,\n",
              "       46, 20, 42, 19,  8,  8, 26, 32, 16,  0,  5, 30, 12, 33,  2, 40,  3,\n",
              "       10, 45, 15, 30, 44, 47, 24,  3,  8, 15,  8, 46,  5, 36, 25, 47, 34,\n",
              "        5, 10, 35,  4, 27, 26, 11, 45,  9, 42, 46, 36, 34,  5, 30, 15, 22,\n",
              "       46,  1, 35, 18, 25, 18,  6, 41, 40, 42, 40, 35, 26, 13, 23,  3, 35,\n",
              "       45,  7, 37, 30, 34, 12, 36, 32,  1, 24,  6,  7,  6,  5, 34, 24, 18,\n",
              "       12, 42,  7, 36,  0,  0, 21,  7, 32,  1, 11,  6, 14])"
            ]
          },
          "metadata": {},
          "execution_count": 23
        }
      ],
      "source": [
        "print(len(sampled_indices))\n",
        "sampled_indices"
      ]
    },
    {
      "cell_type": "markdown",
      "metadata": {
        "id": "jKApfSViQS6i"
      },
      "source": [
        "Decode these to see the text predicted by this untrained model:"
      ]
    },
    {
      "cell_type": "code",
      "execution_count": null,
      "metadata": {
        "colab": {
          "base_uri": "https://localhost:8080/"
        },
        "outputId": "9ba28d9d-db68-46e9-de54-31ae9b158dac",
        "id": "oNAv66wFQS6i"
      },
      "outputs": [
        {
          "output_type": "stream",
          "name": "stdout",
          "text": [
            "Input: \n",
            " 'ظی دامی\\nگله از زاهد بدخو نکنم رسم اين است\\nکه چو صبحی بدمد در پی اش افتد شامی\\nيار من چون بخرامد به تماشای چمن\\nبرسانش ز من ای پيک صبا پيغامی\\nآن حريفی که شب و روز می صاف کشد\\nبود آيا که کند ياد ز دردآشامی'\n",
            "\n",
            "Next Char Predictions: \n",
            " 'Yذعظس۲۴۱Y۰۲ل هپژ۰۳آYنحسص۴ثثYرژYپلف۲ثجثم۷م۴خا\\u200cشثگض۰ثلظغشه۳عس۹ژب۵بر\\u200c ثآبچث۱اجشهآجلگ۹جثفل۱Yرسبکغ۲ی۷ژح۵ماک۹ظ۵طججمچش\\nبيذژY۳آخ۸سي۷\\u200cقآجسج۹بیل\\u200cکبخگانمد۸ح۵۹یکبيسغ۹ گضلضت۴۳۵۳گمرفآگ۸ث۰يکذیچ قتثتبکقضذ۵ثی\\n\\nعثچ دتز'\n"
          ]
        }
      ],
      "source": [
        "print(\"Input: \\n\", repr(\"\".join(idx2char[input_example_batch[0].numpy()])))\n",
        "print()\n",
        "print(\"Next Char Predictions: \\n\", repr(\"\".join(idx2char[sampled_indices ])))"
      ]
    },
    {
      "cell_type": "markdown",
      "metadata": {
        "id": "gs8C3Uv_QS6j"
      },
      "source": [
        "## Train the model"
      ]
    },
    {
      "cell_type": "markdown",
      "metadata": {
        "id": "86IyelaZQS6j"
      },
      "source": [
        "At this point the problem can be treated as a standard classification problem. Given the previous RNN state, and the input this time step, predict the class of the next character."
      ]
    },
    {
      "cell_type": "markdown",
      "metadata": {
        "id": "Kk8wJ48CQS6j"
      },
      "source": [
        "### Attach an optimizer, and a loss function"
      ]
    },
    {
      "cell_type": "markdown",
      "metadata": {
        "id": "6jdx9oEgQS6j"
      },
      "source": [
        "The standard `tf.keras.losses.sparse_softmax_crossentropy` loss function works in this case because it is applied across the last dimension of the predictions.\n",
        "\n",
        "Because our model returns logits, we need to set the `from_logits` flag.\n"
      ]
    },
    {
      "cell_type": "code",
      "execution_count": null,
      "metadata": {
        "colab": {
          "base_uri": "https://localhost:8080/"
        },
        "outputId": "861a6463-34bd-48fb-f992-9cc99edf4178",
        "id": "XJTtnPRWQS6k"
      },
      "outputs": [
        {
          "output_type": "stream",
          "name": "stdout",
          "text": [
            "Prediction shape:  (128, 200, 48)  # (batch_size, sequence_length, vocab_size)\n",
            "scalar_loss:       3.8705091\n"
          ]
        }
      ],
      "source": [
        "def loss(labels, logits):\n",
        "  return tf.keras.losses.sparse_categorical_crossentropy(labels, logits, from_logits=True)\n",
        "\n",
        "example_batch_loss  = loss(target_example_batch, example_batch_predictions)\n",
        "print(\"Prediction shape: \", example_batch_predictions.shape, \" # (batch_size, sequence_length, vocab_size)\")\n",
        "print(\"scalar_loss:      \", example_batch_loss.numpy().mean())"
      ]
    },
    {
      "cell_type": "markdown",
      "metadata": {
        "id": "Jg_4PbBjQS6k"
      },
      "source": [
        "Configure the training procedure using the `tf.keras.Model.compile` method. We'll use `tf.train.AdamOptimizer` with default arguments and the loss function."
      ]
    },
    {
      "cell_type": "code",
      "execution_count": null,
      "metadata": {
        "id": "vpjIyi4XQS6m"
      },
      "outputs": [],
      "source": [
        "model.compile(\n",
        "    optimizer='adam',\n",
        "    loss = loss,\n",
        "    metrics=['accuracy'])"
      ]
    },
    {
      "cell_type": "markdown",
      "metadata": {
        "id": "b865-s_OQS6m"
      },
      "source": [
        "### Configure checkpoints"
      ]
    },
    {
      "cell_type": "markdown",
      "metadata": {
        "id": "9VN2ZRqYQS6m"
      },
      "source": [
        "Use a `tf.keras.callbacks.ModelCheckpoint` to ensure that checkpoints are saved during training:"
      ]
    },
    {
      "cell_type": "code",
      "execution_count": null,
      "metadata": {
        "id": "L1MDmuQ6QS6n"
      },
      "outputs": [],
      "source": [
        "# Directory where the checkpoints will be saved\n",
        "checkpoint_dir = './training_checkpoints'\n",
        "# Name of the checkpoint files\n",
        "checkpoint_prefix = os.path.join(checkpoint_dir, \"ckpt_{epoch}\")\n",
        "\n",
        "checkpoint_callback=tf.keras.callbacks.ModelCheckpoint(\n",
        "    filepath=checkpoint_prefix,\n",
        "    save_weights_only=True)"
      ]
    },
    {
      "cell_type": "markdown",
      "metadata": {
        "id": "0uKx1EN0QS6n"
      },
      "source": [
        "### Execute the training"
      ]
    },
    {
      "cell_type": "markdown",
      "metadata": {
        "id": "Y4p0PcghQS6n"
      },
      "source": [
        "To keep training time reasonable, use 3 epochs to train the model. In Colab, set the runtime to GPU for faster training."
      ]
    },
    {
      "cell_type": "code",
      "execution_count": null,
      "metadata": {
        "id": "RKPIitxdQS6n"
      },
      "outputs": [],
      "source": [
        "EPOCHS=100"
      ]
    },
    {
      "cell_type": "code",
      "execution_count": null,
      "metadata": {
        "colab": {
          "base_uri": "https://localhost:8080/"
        },
        "outputId": "06a42317-bbb3-421b-a05e-c7a67827550b",
        "id": "0YcWfekLQS6o"
      },
      "outputs": [
        {
          "output_type": "stream",
          "name": "stdout",
          "text": [
            "Epoch 1/100\n",
            "10/10 [==============================] - 7s 217ms/step - loss: 4.6624 - accuracy: 0.1785\n",
            "Epoch 2/100\n",
            "10/10 [==============================] - 2s 200ms/step - loss: 3.6674 - accuracy: 0.1633\n",
            "Epoch 3/100\n",
            "10/10 [==============================] - 2s 204ms/step - loss: 3.3169 - accuracy: 0.1920\n",
            "Epoch 4/100\n",
            "10/10 [==============================] - 2s 194ms/step - loss: 2.9312 - accuracy: 0.2258\n",
            "Epoch 5/100\n",
            "10/10 [==============================] - 2s 221ms/step - loss: 2.8126 - accuracy: 0.2474\n",
            "Epoch 6/100\n",
            "10/10 [==============================] - 2s 197ms/step - loss: 2.7184 - accuracy: 0.2667\n",
            "Epoch 7/100\n",
            "10/10 [==============================] - 2s 194ms/step - loss: 2.6480 - accuracy: 0.2829\n",
            "Epoch 8/100\n",
            "10/10 [==============================] - 2s 199ms/step - loss: 2.5919 - accuracy: 0.2916\n",
            "Epoch 9/100\n",
            "10/10 [==============================] - 2s 196ms/step - loss: 2.5513 - accuracy: 0.2940\n",
            "Epoch 10/100\n",
            "10/10 [==============================] - 2s 196ms/step - loss: 2.5188 - accuracy: 0.2978\n",
            "Epoch 11/100\n",
            "10/10 [==============================] - 2s 204ms/step - loss: 2.4901 - accuracy: 0.3043\n",
            "Epoch 12/100\n",
            "10/10 [==============================] - 2s 217ms/step - loss: 2.4645 - accuracy: 0.3104\n",
            "Epoch 13/100\n",
            "10/10 [==============================] - 2s 198ms/step - loss: 2.4406 - accuracy: 0.3156\n",
            "Epoch 14/100\n",
            "10/10 [==============================] - 2s 200ms/step - loss: 2.4172 - accuracy: 0.3216\n",
            "Epoch 15/100\n",
            "10/10 [==============================] - 2s 197ms/step - loss: 2.3895 - accuracy: 0.3277\n",
            "Epoch 16/100\n",
            "10/10 [==============================] - 2s 202ms/step - loss: 2.3608 - accuracy: 0.3341\n",
            "Epoch 17/100\n",
            "10/10 [==============================] - 2s 198ms/step - loss: 2.3343 - accuracy: 0.3398\n",
            "Epoch 18/100\n",
            "10/10 [==============================] - 2s 219ms/step - loss: 2.3098 - accuracy: 0.3442\n",
            "Epoch 19/100\n",
            "10/10 [==============================] - 2s 203ms/step - loss: 2.2873 - accuracy: 0.3505\n",
            "Epoch 20/100\n",
            "10/10 [==============================] - 2s 199ms/step - loss: 2.2621 - accuracy: 0.3564\n",
            "Epoch 21/100\n",
            "10/10 [==============================] - 2s 200ms/step - loss: 2.2366 - accuracy: 0.3626\n",
            "Epoch 22/100\n",
            "10/10 [==============================] - 2s 204ms/step - loss: 2.2152 - accuracy: 0.3676\n",
            "Epoch 23/100\n",
            "10/10 [==============================] - 2s 202ms/step - loss: 2.1994 - accuracy: 0.3710\n",
            "Epoch 24/100\n",
            "10/10 [==============================] - 2s 214ms/step - loss: 2.1768 - accuracy: 0.3772\n",
            "Epoch 25/100\n",
            "10/10 [==============================] - 2s 208ms/step - loss: 2.1589 - accuracy: 0.3832\n",
            "Epoch 26/100\n",
            "10/10 [==============================] - 2s 202ms/step - loss: 2.1406 - accuracy: 0.3877\n",
            "Epoch 27/100\n",
            "10/10 [==============================] - 2s 202ms/step - loss: 2.1303 - accuracy: 0.3904\n",
            "Epoch 28/100\n",
            "10/10 [==============================] - 2s 209ms/step - loss: 2.1101 - accuracy: 0.3962\n",
            "Epoch 29/100\n",
            "10/10 [==============================] - 2s 203ms/step - loss: 2.0949 - accuracy: 0.4005\n",
            "Epoch 30/100\n",
            "10/10 [==============================] - 2s 209ms/step - loss: 2.0820 - accuracy: 0.4025\n",
            "Epoch 31/100\n",
            "10/10 [==============================] - 2s 207ms/step - loss: 2.0648 - accuracy: 0.4082\n",
            "Epoch 32/100\n",
            "10/10 [==============================] - 2s 203ms/step - loss: 2.0511 - accuracy: 0.4116\n",
            "Epoch 33/100\n",
            "10/10 [==============================] - 2s 203ms/step - loss: 2.0388 - accuracy: 0.4149\n",
            "Epoch 34/100\n",
            "10/10 [==============================] - 2s 209ms/step - loss: 2.0187 - accuracy: 0.4216\n",
            "Epoch 35/100\n",
            "10/10 [==============================] - 2s 202ms/step - loss: 2.0046 - accuracy: 0.4251\n",
            "Epoch 36/100\n",
            "10/10 [==============================] - 2s 221ms/step - loss: 1.9870 - accuracy: 0.4308\n",
            "Epoch 37/100\n",
            "10/10 [==============================] - 2s 209ms/step - loss: 1.9758 - accuracy: 0.4341\n",
            "Epoch 38/100\n",
            "10/10 [==============================] - 2s 205ms/step - loss: 1.9567 - accuracy: 0.4399\n",
            "Epoch 39/100\n",
            "10/10 [==============================] - 2s 205ms/step - loss: 1.9413 - accuracy: 0.4435\n",
            "Epoch 40/100\n",
            "10/10 [==============================] - 2s 210ms/step - loss: 1.9238 - accuracy: 0.4484\n",
            "Epoch 41/100\n",
            "10/10 [==============================] - 2s 205ms/step - loss: 1.9111 - accuracy: 0.4514\n",
            "Epoch 42/100\n",
            "10/10 [==============================] - 2s 215ms/step - loss: 1.8937 - accuracy: 0.4562\n",
            "Epoch 43/100\n",
            "10/10 [==============================] - 2s 214ms/step - loss: 1.8810 - accuracy: 0.4592\n",
            "Epoch 44/100\n",
            "10/10 [==============================] - 2s 205ms/step - loss: 1.8645 - accuracy: 0.4643\n",
            "Epoch 45/100\n",
            "10/10 [==============================] - 2s 209ms/step - loss: 1.8462 - accuracy: 0.4702\n",
            "Epoch 46/100\n",
            "10/10 [==============================] - 2s 210ms/step - loss: 1.8328 - accuracy: 0.4729\n",
            "Epoch 47/100\n",
            "10/10 [==============================] - 2s 206ms/step - loss: 1.8191 - accuracy: 0.4777\n",
            "Epoch 48/100\n",
            "10/10 [==============================] - 2s 217ms/step - loss: 1.7975 - accuracy: 0.4829\n",
            "Epoch 49/100\n",
            "10/10 [==============================] - 2s 211ms/step - loss: 1.7845 - accuracy: 0.4866\n",
            "Epoch 50/100\n",
            "10/10 [==============================] - 2s 207ms/step - loss: 1.7704 - accuracy: 0.4900\n",
            "Epoch 51/100\n",
            "10/10 [==============================] - 2s 207ms/step - loss: 1.7523 - accuracy: 0.4950\n",
            "Epoch 52/100\n",
            "10/10 [==============================] - 2s 211ms/step - loss: 1.7377 - accuracy: 0.4995\n",
            "Epoch 53/100\n",
            "10/10 [==============================] - 2s 209ms/step - loss: 1.7205 - accuracy: 0.5037\n",
            "Epoch 54/100\n",
            "10/10 [==============================] - 2s 231ms/step - loss: 1.7045 - accuracy: 0.5077\n",
            "Epoch 55/100\n",
            "10/10 [==============================] - 2s 213ms/step - loss: 1.6887 - accuracy: 0.5122\n",
            "Epoch 56/100\n",
            "10/10 [==============================] - 2s 210ms/step - loss: 1.6725 - accuracy: 0.5161\n",
            "Epoch 57/100\n",
            "10/10 [==============================] - 2s 209ms/step - loss: 1.6537 - accuracy: 0.5220\n",
            "Epoch 58/100\n",
            "10/10 [==============================] - 2s 213ms/step - loss: 1.6386 - accuracy: 0.5266\n",
            "Epoch 59/100\n",
            "10/10 [==============================] - 2s 209ms/step - loss: 1.6210 - accuracy: 0.5300\n",
            "Epoch 60/100\n",
            "10/10 [==============================] - 2s 232ms/step - loss: 1.6048 - accuracy: 0.5353\n",
            "Epoch 61/100\n",
            "10/10 [==============================] - 2s 215ms/step - loss: 1.5854 - accuracy: 0.5403\n",
            "Epoch 62/100\n",
            "10/10 [==============================] - 2s 210ms/step - loss: 1.5660 - accuracy: 0.5455\n",
            "Epoch 63/100\n",
            "10/10 [==============================] - 2s 212ms/step - loss: 1.5504 - accuracy: 0.5504\n",
            "Epoch 64/100\n",
            "10/10 [==============================] - 2s 216ms/step - loss: 1.5341 - accuracy: 0.5553\n",
            "Epoch 65/100\n",
            "10/10 [==============================] - 2s 219ms/step - loss: 1.5134 - accuracy: 0.5604\n",
            "Epoch 66/100\n",
            "10/10 [==============================] - 2s 218ms/step - loss: 1.4936 - accuracy: 0.5663\n",
            "Epoch 67/100\n",
            "10/10 [==============================] - 2s 213ms/step - loss: 1.4741 - accuracy: 0.5714\n",
            "Epoch 68/100\n",
            "10/10 [==============================] - 2s 214ms/step - loss: 1.4502 - accuracy: 0.5791\n",
            "Epoch 69/100\n",
            "10/10 [==============================] - 2s 213ms/step - loss: 1.4319 - accuracy: 0.5843\n",
            "Epoch 70/100\n",
            "10/10 [==============================] - 2s 213ms/step - loss: 1.4107 - accuracy: 0.5896\n",
            "Epoch 71/100\n",
            "10/10 [==============================] - 2s 228ms/step - loss: 1.3874 - accuracy: 0.5975\n",
            "Epoch 72/100\n",
            "10/10 [==============================] - 2s 214ms/step - loss: 1.3669 - accuracy: 0.6034\n",
            "Epoch 73/100\n",
            "10/10 [==============================] - 2s 216ms/step - loss: 1.3435 - accuracy: 0.6104\n",
            "Epoch 74/100\n",
            "10/10 [==============================] - 2s 210ms/step - loss: 1.3211 - accuracy: 0.6170\n",
            "Epoch 75/100\n",
            "10/10 [==============================] - 2s 212ms/step - loss: 1.2960 - accuracy: 0.6246\n",
            "Epoch 76/100\n",
            "10/10 [==============================] - 2s 217ms/step - loss: 1.2708 - accuracy: 0.6330\n",
            "Epoch 77/100\n",
            "10/10 [==============================] - 2s 217ms/step - loss: 1.2505 - accuracy: 0.6381\n",
            "Epoch 78/100\n",
            "10/10 [==============================] - 2s 213ms/step - loss: 1.2226 - accuracy: 0.6476\n",
            "Epoch 79/100\n",
            "10/10 [==============================] - 2s 218ms/step - loss: 1.1980 - accuracy: 0.6560\n",
            "Epoch 80/100\n",
            "10/10 [==============================] - 2s 214ms/step - loss: 1.1653 - accuracy: 0.6663\n",
            "Epoch 81/100\n",
            "10/10 [==============================] - 2s 213ms/step - loss: 1.1367 - accuracy: 0.6768\n",
            "Epoch 82/100\n",
            "10/10 [==============================] - 2s 218ms/step - loss: 1.1086 - accuracy: 0.6864\n",
            "Epoch 83/100\n",
            "10/10 [==============================] - 2s 218ms/step - loss: 1.0801 - accuracy: 0.6949\n",
            "Epoch 84/100\n",
            "10/10 [==============================] - 2s 215ms/step - loss: 1.0530 - accuracy: 0.7041\n",
            "Epoch 85/100\n",
            "10/10 [==============================] - 2s 214ms/step - loss: 1.0244 - accuracy: 0.7136\n",
            "Epoch 86/100\n",
            "10/10 [==============================] - 2s 214ms/step - loss: 0.9970 - accuracy: 0.7226\n",
            "Epoch 87/100\n",
            "10/10 [==============================] - 2s 213ms/step - loss: 0.9632 - accuracy: 0.7347\n",
            "Epoch 88/100\n",
            "10/10 [==============================] - 2s 220ms/step - loss: 0.9310 - accuracy: 0.7468\n",
            "Epoch 89/100\n",
            "10/10 [==============================] - 2s 220ms/step - loss: 0.8937 - accuracy: 0.7606\n",
            "Epoch 90/100\n",
            "10/10 [==============================] - 2s 214ms/step - loss: 0.8644 - accuracy: 0.7718\n",
            "Epoch 91/100\n",
            "10/10 [==============================] - 2s 220ms/step - loss: 0.8327 - accuracy: 0.7823\n",
            "Epoch 92/100\n",
            "10/10 [==============================] - 2s 215ms/step - loss: 0.7994 - accuracy: 0.7948\n",
            "Epoch 93/100\n",
            "10/10 [==============================] - 2s 214ms/step - loss: 0.7678 - accuracy: 0.8061\n",
            "Epoch 94/100\n",
            "10/10 [==============================] - 2s 219ms/step - loss: 0.7372 - accuracy: 0.8180\n",
            "Epoch 95/100\n",
            "10/10 [==============================] - 2s 221ms/step - loss: 0.7089 - accuracy: 0.8277\n",
            "Epoch 96/100\n",
            "10/10 [==============================] - 2s 215ms/step - loss: 0.6796 - accuracy: 0.8378\n",
            "Epoch 97/100\n",
            "10/10 [==============================] - 2s 218ms/step - loss: 0.6517 - accuracy: 0.8479\n",
            "Epoch 98/100\n",
            "10/10 [==============================] - 2s 215ms/step - loss: 0.6182 - accuracy: 0.8611\n",
            "Epoch 99/100\n",
            "10/10 [==============================] - 2s 218ms/step - loss: 0.5903 - accuracy: 0.8710\n",
            "Epoch 100/100\n",
            "10/10 [==============================] - 2s 233ms/step - loss: 0.5594 - accuracy: 0.8823\n"
          ]
        }
      ],
      "source": [
        "history = model.fit(dataset.repeat(), epochs=EPOCHS, steps_per_epoch=steps_per_epoch,\n",
        "                    callbacks=[checkpoint_callback])"
      ]
    },
    {
      "cell_type": "markdown",
      "metadata": {
        "id": "JhN77x-fQS6o"
      },
      "source": [
        "## Generate text"
      ]
    },
    {
      "cell_type": "markdown",
      "metadata": {
        "id": "W1xpatavQS6o"
      },
      "source": [
        "### Restore the latest checkpoint"
      ]
    },
    {
      "cell_type": "markdown",
      "metadata": {
        "id": "FWQ3ckc6QS6p"
      },
      "source": [
        "To keep this prediction step simple, use a batch size of 1.\n",
        "\n",
        "Because of the way the RNN state is passed from timestep to timestep, the model only accepts a fixed batch size once built.\n",
        "\n",
        "To run the model with a different `batch_size`, we need to rebuild the model and restore the weights from the checkpoint.\n"
      ]
    },
    {
      "cell_type": "code",
      "execution_count": null,
      "metadata": {
        "colab": {
          "base_uri": "https://localhost:8080/",
          "height": 36
        },
        "outputId": "97bc1197-7fe8-44c9-ff2e-fa43d57a951d",
        "id": "FtT7Sb0QQS6p"
      },
      "outputs": [
        {
          "output_type": "execute_result",
          "data": {
            "text/plain": [
              "'./training_checkpoints/ckpt_100'"
            ],
            "application/vnd.google.colaboratory.intrinsic+json": {
              "type": "string"
            }
          },
          "metadata": {},
          "execution_count": 30
        }
      ],
      "source": [
        "tf.train.latest_checkpoint(checkpoint_dir)"
      ]
    },
    {
      "cell_type": "code",
      "execution_count": null,
      "metadata": {
        "id": "e4csAhf1QS6p"
      },
      "outputs": [],
      "source": [
        "model = build_model(vocab_size, embedding_dim, rnn_units, batch_size=1)\n",
        "\n",
        "model.load_weights(tf.train.latest_checkpoint(checkpoint_dir))\n",
        "\n",
        "model.build(tf.TensorShape([1, None]))"
      ]
    },
    {
      "cell_type": "code",
      "execution_count": null,
      "metadata": {
        "colab": {
          "base_uri": "https://localhost:8080/"
        },
        "outputId": "0f614a02-d670-42ff-bdf8-8a79715e0adf",
        "id": "Pza3vceXQS6p"
      },
      "outputs": [
        {
          "output_type": "stream",
          "name": "stdout",
          "text": [
            "Model: \"sequential_1\"\n",
            "_________________________________________________________________\n",
            " Layer (type)                Output Shape              Param #   \n",
            "=================================================================\n",
            " embedding_1 (Embedding)     (1, None, 256)            12288     \n",
            "                                                                 \n",
            " gru_1 (GRU)                 (1, None, 1024)           3938304   \n",
            "                                                                 \n",
            " dense_1 (Dense)             (1, None, 48)             49200     \n",
            "                                                                 \n",
            "=================================================================\n",
            "Total params: 3,999,792\n",
            "Trainable params: 3,999,792\n",
            "Non-trainable params: 0\n",
            "_________________________________________________________________\n"
          ]
        }
      ],
      "source": [
        "model.summary()"
      ]
    },
    {
      "cell_type": "markdown",
      "metadata": {
        "id": "5o3OE-iFQS6q"
      },
      "source": [
        "### The prediction loop\n",
        "\n",
        "The following code block generates the text:\n",
        "\n",
        "* It Starts by choosing a start string, initializing the RNN state and setting the number of characters to generate.\n",
        "\n",
        "* Get the prediction distribution of the next character using the start string and the RNN state.\n",
        "\n",
        "* Then, use a multinomial distribution to calculate the index of the predicted character. Use this predicted character as our next input to the model.\n",
        "\n",
        "* The RNN state returned by the model is fed back into the model so that it now has more context, instead than only one word. After predicting the next word, the modified RNN states are again fed back into the model, which is how it learns as it gets more context from the previously predicted words.\n",
        "\n",
        "\n",
        "![To generate text the model's output is fed back to the input](https://tensorflow.org/tutorials/sequences/images/text_generation_sampling.png)\n",
        "\n",
        "Looking at the generated text, you'll see the model knows when to capitalize, make paragraphs and imitates a Shakespeare-like writing vocabulary. With the small number of training epochs, it has not yet learned to form coherent sentences."
      ]
    },
    {
      "cell_type": "code",
      "execution_count": null,
      "metadata": {
        "id": "jUSUj0ZGQS6q"
      },
      "outputs": [],
      "source": [
        "def generate_text(model, start_string):\n",
        "  # Evaluation step (generating text using the learned model)\n",
        "\n",
        "  # Number of characters to generate\n",
        "  num_generate = 500\n",
        "\n",
        "  # Converting our start string to numbers (vectorizing)\n",
        "  input_eval = [char2idx[s] for s in start_string]\n",
        "  input_eval = tf.expand_dims(input_eval, 0)\n",
        "\n",
        "  # Empty string to store our results\n",
        "  text_generated = []\n",
        "\n",
        "  # Low temperatures results in more predictable text.\n",
        "  # Higher temperatures results in more surprising text.\n",
        "  # Experiment to find the best setting.\n",
        "  temperature = 1.0\n",
        "\n",
        "  # Here batch size == 1\n",
        "  model.reset_states()\n",
        "  for i in range(num_generate):\n",
        "      predictions = model(input_eval)\n",
        "      # remove the batch dimension\n",
        "      predictions = tf.squeeze(predictions, 0)\n",
        "\n",
        "      # using a multinomial distribution to predict the word returned by the model\n",
        "      predictions = predictions / temperature\n",
        "      predicted_id = tf.random.categorical(predictions, num_samples=1)[-1,0].numpy()\n",
        "      #print(tf.multinomial(predictions, num_samples=1).shape)\n",
        "      # We pass the predicted word as the next input to the model\n",
        "      # along with the previous hidden state\n",
        "      input_eval = tf.expand_dims([predicted_id], 0)\n",
        "\n",
        "      text_generated.append(idx2char[predicted_id])\n",
        "\n",
        "  return (start_string + ''.join(text_generated))"
      ]
    },
    {
      "cell_type": "code",
      "execution_count": null,
      "metadata": {
        "colab": {
          "base_uri": "https://localhost:8080/"
        },
        "outputId": "400daa69-5d0e-4b52-da94-3a5fef141eff",
        "id": "YaPj7IEHQS6q"
      },
      "outputs": [
        {
          "output_type": "stream",
          "name": "stdout",
          "text": [
            "الا يا ايها الساقی ادر کاسا و ناولها کنم\n",
            "ابروی عندليبش\n",
            "تندی گر نظر بر هجر تکرت است که صوفی داشت\n",
            "اگر ز رسيدی و مرغ سهی بشين و شمت\n",
            "نعد بگردد و سلطنت نگار شم\n",
            "هر که در اين پرده نزنم سر ما و دارا\n",
            "دلت برانک می برون را چه مدارد انگيش\n",
            "که گويی نبرتيده‌ام به دام است و خواب می‌زدم\n",
            "وز دور طرب آری ز مسکينه ديگرفتار\n",
            "کمان ابروی جانان گشاده در کنار داشت\n",
            "گفتم ره نشينه تا تازيرت درازم بنشست\n",
            "کس نکردی کنيم و مار و جان و زلف نگار تو\n",
            "حيرتم که ببويد به دربانه مرام است\n",
            "در خنمه چنگست\n",
            "جام می گل کن که پرس به خون بگذرد\n",
            "که به جام بی‌دل خم جهان را چو شمع\n",
            "غريب \n"
          ]
        }
      ],
      "source": [
        "generate_poetry = generate_text(model, start_string=u\"الا يا ايها الساقی ادر کاسا و ناولها\")\n",
        "print(generate_poetry)"
      ]
    },
    {
      "cell_type": "code",
      "execution_count": null,
      "metadata": {
        "colab": {
          "base_uri": "https://localhost:8080/"
        },
        "outputId": "8047d97d-7e52-402f-9425-031c94e7c8e9",
        "id": "XiF4IGUAQS6r"
      },
      "outputs": [
        {
          "output_type": "stream",
          "name": "stderr",
          "text": [
            "WARNING:tensorflow:Compiled the loaded model, but the compiled metrics have yet to be built. `model.compile_metrics` will be empty until you train or evaluate the model.\n"
          ]
        }
      ],
      "source": [
        "model.save('keras.h5')"
      ]
    },
    {
      "cell_type": "code",
      "source": [
        "from sklearn.metrics.pairwise import cosine_similarity\n",
        "from sklearn.feature_extraction.text import TfidfVectorizer\n",
        "\n",
        "# Real poems\n",
        "real_poems = [\n",
        "    'الا يا ايها الساقی ادر کاسا و ناولها',\n",
        "    'که عشق آسان نمود اول ولی افتاد مشکل‌ها',\n",
        "    'به بوی نافه‌ای کاخر صبا زان طره بگشايد',\n",
        "    'ز تاب جعد مشکينش چه خون افتاد در دل‌ها',\n",
        "    'مرا در منزل جانان چه امن عيش چون هر دم',\n",
        "    'جرس فرياد می‌دارد که بربنديد محمل‌ها',\n",
        "    'به می سجاده رنگين کن گرت پير مغان گويد',\n",
        "    'که سالک بی‌خبر نبود ز راه و رسم منزل‌ها',\n",
        "    'شب تاريک و بيم موج و گردابی چنين هايل',\n",
        "    'کجا دانند حال ما سبکباران ساحل‌ها',\n",
        "    'همه کارم ز خود کامی به بدنامی کشيد آخر',\n",
        "    'نهان کی ماند آن رازی کز او سازند محفل‌ها',\n",
        "]\n",
        "\n",
        "# Generate poetry\n",
        "generated_text = generate_text(model, start_string=u\"الا يا ايها الساقی ادر کاسا و ناولها\")\n",
        "\n"
      ],
      "metadata": {
        "id": "3egBnk6zQS6r"
      },
      "execution_count": null,
      "outputs": []
    },
    {
      "cell_type": "code",
      "source": [
        "generated_text = generated_text.split('\\n')"
      ],
      "metadata": {
        "id": "55zy155ZQS6s"
      },
      "execution_count": null,
      "outputs": []
    },
    {
      "cell_type": "code",
      "source": [
        "# Vectorize the real poems\n",
        "vectorizer = TfidfVectorizer()\n",
        "real_poems_vectors = vectorizer.fit_transform(real_poems)\n",
        "\n",
        "# Vectorize the generated poem\n",
        "generated_vector = vectorizer.transform(generated_text)\n",
        "\n",
        "# Calculate cosine similarity between generated poem and real poems\n",
        "similarity_scores = cosine_similarity(generated_vector, real_poems_vectors)\n",
        "\n",
        "average_similarity_score = sum(similarity_scores) / len(similarity_scores)\n",
        "\n",
        "# Get the most similar real poem\n",
        "most_similar_index = np.argmax(average_similarity_score)\n",
        "most_similar_poem = real_poems[most_similar_index]\n",
        "\n",
        "print(\"Generated Poem:\\n\", generated_text)\n",
        "print(\"Most Similar Real Poem:\\n\", most_similar_poem)\n",
        "print(\"Cosine Similarity Score of most similar poem:\", average_similarity_score[most_similar_index])\n",
        "print(\"Cosine Similarity Score:\", average_similarity_score)"
      ],
      "metadata": {
        "colab": {
          "base_uri": "https://localhost:8080/"
        },
        "outputId": "d835ce67-fbfe-4fd5-9062-8a468e87e8af",
        "id": "Ke5RL0FtQS6s"
      },
      "execution_count": null,
      "outputs": [
        {
          "output_type": "stream",
          "name": "stdout",
          "text": [
            "Generated Poem:\n",
            " ['الا يا ايها الساقی ادر کاسا و ناولهاست', 'برفکن حافظ جام زه می\\u200cآيد فيض ازل', 'به پياهی که اين\\u200cهاست نباشد', 'با کار خود باشم ز باغ عيش يک جم شد', 'اين آبثان که دعا رود گرفته چو داری', 'مکن به چنگ مرد خاک نفس باده فروش', 'کان عالم و رندان به سر رفتم بدان سانگ کش', 'تا به ابد او دلم کز سخت بی\\u200cنبارد دگر بينشته', 'و اندر گل بدين شاه درست', 'با آنم نگردد گدای عارض فضول', 'چون باد صبا گوش به تو زان لب شيرين کارگاه کم', 'ز روی طاعت و اين راه خبرند چنگ و رباب باد', 'خواه شمشيد و گدا می\\u200cشتفتم بی\\u200cبها کرد', 'غزل    ۱۷۹', 'سرود عقل بر سر کو فرق از بطرض دوست', 'به کوک مکن که ديد ار درياب ']\n",
            "Most Similar Real Poem:\n",
            " به می سجاده رنگين کن گرت پير مغان گويد\n",
            "Cosine Similarity Score of most similar poem: 0.10008756944085351\n",
            "Cosine Similarity Score: [0.05786376 0.04143822 0.09084686 0.         0.02545009 0.07887823\n",
            " 0.10008757 0.09319273 0.         0.         0.0886961  0.0216562 ]\n"
          ]
        }
      ]
    },
    {
      "cell_type": "code",
      "execution_count": null,
      "metadata": {
        "id": "yG_n40gFzf9s"
      },
      "outputs": [],
      "source": [
        "from __future__ import absolute_import, division, print_function, unicode_literals\n",
        "\n",
        "import tensorflow as tf\n",
        "# tf.enable_eager_execution()\n",
        "\n",
        "import numpy as np\n",
        "import os\n",
        "import time\n",
        "import glob"
      ]
    },
    {
      "cell_type": "code",
      "source": [
        "from google.colab import files\n",
        "uploaded = files.upload()"
      ],
      "metadata": {
        "id": "za_URKGDcJkY",
        "outputId": "d52d7f46-f2d0-437e-cfa3-4049fce429a4",
        "colab": {
          "base_uri": "https://localhost:8080/",
          "height": 73
        }
      },
      "execution_count": null,
      "outputs": [
        {
          "output_type": "display_data",
          "data": {
            "text/plain": [
              "<IPython.core.display.HTML object>"
            ],
            "text/html": [
              "\n",
              "     <input type=\"file\" id=\"files-26d573af-10dc-401a-9736-e6a12e3578ee\" name=\"files[]\" multiple disabled\n",
              "        style=\"border:none\" />\n",
              "     <output id=\"result-26d573af-10dc-401a-9736-e6a12e3578ee\">\n",
              "      Upload widget is only available when the cell has been executed in the\n",
              "      current browser session. Please rerun this cell to enable.\n",
              "      </output>\n",
              "      <script>// Copyright 2017 Google LLC\n",
              "//\n",
              "// Licensed under the Apache License, Version 2.0 (the \"License\");\n",
              "// you may not use this file except in compliance with the License.\n",
              "// You may obtain a copy of the License at\n",
              "//\n",
              "//      http://www.apache.org/licenses/LICENSE-2.0\n",
              "//\n",
              "// Unless required by applicable law or agreed to in writing, software\n",
              "// distributed under the License is distributed on an \"AS IS\" BASIS,\n",
              "// WITHOUT WARRANTIES OR CONDITIONS OF ANY KIND, either express or implied.\n",
              "// See the License for the specific language governing permissions and\n",
              "// limitations under the License.\n",
              "\n",
              "/**\n",
              " * @fileoverview Helpers for google.colab Python module.\n",
              " */\n",
              "(function(scope) {\n",
              "function span(text, styleAttributes = {}) {\n",
              "  const element = document.createElement('span');\n",
              "  element.textContent = text;\n",
              "  for (const key of Object.keys(styleAttributes)) {\n",
              "    element.style[key] = styleAttributes[key];\n",
              "  }\n",
              "  return element;\n",
              "}\n",
              "\n",
              "// Max number of bytes which will be uploaded at a time.\n",
              "const MAX_PAYLOAD_SIZE = 100 * 1024;\n",
              "\n",
              "function _uploadFiles(inputId, outputId) {\n",
              "  const steps = uploadFilesStep(inputId, outputId);\n",
              "  const outputElement = document.getElementById(outputId);\n",
              "  // Cache steps on the outputElement to make it available for the next call\n",
              "  // to uploadFilesContinue from Python.\n",
              "  outputElement.steps = steps;\n",
              "\n",
              "  return _uploadFilesContinue(outputId);\n",
              "}\n",
              "\n",
              "// This is roughly an async generator (not supported in the browser yet),\n",
              "// where there are multiple asynchronous steps and the Python side is going\n",
              "// to poll for completion of each step.\n",
              "// This uses a Promise to block the python side on completion of each step,\n",
              "// then passes the result of the previous step as the input to the next step.\n",
              "function _uploadFilesContinue(outputId) {\n",
              "  const outputElement = document.getElementById(outputId);\n",
              "  const steps = outputElement.steps;\n",
              "\n",
              "  const next = steps.next(outputElement.lastPromiseValue);\n",
              "  return Promise.resolve(next.value.promise).then((value) => {\n",
              "    // Cache the last promise value to make it available to the next\n",
              "    // step of the generator.\n",
              "    outputElement.lastPromiseValue = value;\n",
              "    return next.value.response;\n",
              "  });\n",
              "}\n",
              "\n",
              "/**\n",
              " * Generator function which is called between each async step of the upload\n",
              " * process.\n",
              " * @param {string} inputId Element ID of the input file picker element.\n",
              " * @param {string} outputId Element ID of the output display.\n",
              " * @return {!Iterable<!Object>} Iterable of next steps.\n",
              " */\n",
              "function* uploadFilesStep(inputId, outputId) {\n",
              "  const inputElement = document.getElementById(inputId);\n",
              "  inputElement.disabled = false;\n",
              "\n",
              "  const outputElement = document.getElementById(outputId);\n",
              "  outputElement.innerHTML = '';\n",
              "\n",
              "  const pickedPromise = new Promise((resolve) => {\n",
              "    inputElement.addEventListener('change', (e) => {\n",
              "      resolve(e.target.files);\n",
              "    });\n",
              "  });\n",
              "\n",
              "  const cancel = document.createElement('button');\n",
              "  inputElement.parentElement.appendChild(cancel);\n",
              "  cancel.textContent = 'Cancel upload';\n",
              "  const cancelPromise = new Promise((resolve) => {\n",
              "    cancel.onclick = () => {\n",
              "      resolve(null);\n",
              "    };\n",
              "  });\n",
              "\n",
              "  // Wait for the user to pick the files.\n",
              "  const files = yield {\n",
              "    promise: Promise.race([pickedPromise, cancelPromise]),\n",
              "    response: {\n",
              "      action: 'starting',\n",
              "    }\n",
              "  };\n",
              "\n",
              "  cancel.remove();\n",
              "\n",
              "  // Disable the input element since further picks are not allowed.\n",
              "  inputElement.disabled = true;\n",
              "\n",
              "  if (!files) {\n",
              "    return {\n",
              "      response: {\n",
              "        action: 'complete',\n",
              "      }\n",
              "    };\n",
              "  }\n",
              "\n",
              "  for (const file of files) {\n",
              "    const li = document.createElement('li');\n",
              "    li.append(span(file.name, {fontWeight: 'bold'}));\n",
              "    li.append(span(\n",
              "        `(${file.type || 'n/a'}) - ${file.size} bytes, ` +\n",
              "        `last modified: ${\n",
              "            file.lastModifiedDate ? file.lastModifiedDate.toLocaleDateString() :\n",
              "                                    'n/a'} - `));\n",
              "    const percent = span('0% done');\n",
              "    li.appendChild(percent);\n",
              "\n",
              "    outputElement.appendChild(li);\n",
              "\n",
              "    const fileDataPromise = new Promise((resolve) => {\n",
              "      const reader = new FileReader();\n",
              "      reader.onload = (e) => {\n",
              "        resolve(e.target.result);\n",
              "      };\n",
              "      reader.readAsArrayBuffer(file);\n",
              "    });\n",
              "    // Wait for the data to be ready.\n",
              "    let fileData = yield {\n",
              "      promise: fileDataPromise,\n",
              "      response: {\n",
              "        action: 'continue',\n",
              "      }\n",
              "    };\n",
              "\n",
              "    // Use a chunked sending to avoid message size limits. See b/62115660.\n",
              "    let position = 0;\n",
              "    do {\n",
              "      const length = Math.min(fileData.byteLength - position, MAX_PAYLOAD_SIZE);\n",
              "      const chunk = new Uint8Array(fileData, position, length);\n",
              "      position += length;\n",
              "\n",
              "      const base64 = btoa(String.fromCharCode.apply(null, chunk));\n",
              "      yield {\n",
              "        response: {\n",
              "          action: 'append',\n",
              "          file: file.name,\n",
              "          data: base64,\n",
              "        },\n",
              "      };\n",
              "\n",
              "      let percentDone = fileData.byteLength === 0 ?\n",
              "          100 :\n",
              "          Math.round((position / fileData.byteLength) * 100);\n",
              "      percent.textContent = `${percentDone}% done`;\n",
              "\n",
              "    } while (position < fileData.byteLength);\n",
              "  }\n",
              "\n",
              "  // All done.\n",
              "  yield {\n",
              "    response: {\n",
              "      action: 'complete',\n",
              "    }\n",
              "  };\n",
              "}\n",
              "\n",
              "scope.google = scope.google || {};\n",
              "scope.google.colab = scope.google.colab || {};\n",
              "scope.google.colab._files = {\n",
              "  _uploadFiles,\n",
              "  _uploadFilesContinue,\n",
              "};\n",
              "})(self);\n",
              "</script> "
            ]
          },
          "metadata": {}
        },
        {
          "output_type": "stream",
          "name": "stdout",
          "text": [
            "Saving hafez.txt to hafez.txt\n"
          ]
        }
      ]
    },
    {
      "cell_type": "code",
      "source": [
        "path_to_file = 'hafez.txt'"
      ],
      "metadata": {
        "id": "UdwwzFCwjfpN"
      },
      "execution_count": null,
      "outputs": []
    },
    {
      "cell_type": "markdown",
      "metadata": {
        "id": "UHjdCjDuSvX_"
      },
      "source": [
        "### Read the data\n",
        "\n",
        "First, look in the text."
      ]
    },
    {
      "cell_type": "code",
      "execution_count": null,
      "metadata": {
        "colab": {
          "base_uri": "https://localhost:8080/"
        },
        "id": "aavnuByVymwK",
        "outputId": "e13a80b2-5d37-4ed2-af2b-588bfd7a5439"
      },
      "outputs": [
        {
          "output_type": "stream",
          "name": "stdout",
          "text": [
            "Length of text: 296677 characters\n",
            "48 unique characters\n"
          ]
        }
      ],
      "source": [
        "# Read, then decode for py2 compat.\n",
        "# text = open('poems', 'rb').read().decode(encoding='utf-8')\n",
        "text = open(path_to_file, 'rb').read().decode(encoding='utf-8')\n",
        "\n",
        "  \n",
        "# length of text is the number of characters in it\n",
        "print ('Length of text: {} characters'.format(len(text)))\n",
        "\n",
        "# remove some exteranous chars \n",
        "execluded = '!()*-.1:=[]«»;؛,،~?؟#\\u200f\\ufeff'\n",
        "out = \"\"\n",
        "\n",
        "\n",
        "for char in text:\n",
        "  if char not in execluded:\n",
        "    out += char\n",
        "text = out\n",
        "text = text.replace(\"\\t\\t\\t\", \"\\t\")\n",
        "text = text.replace(\"\\r\\r\\n\", \"\\n\")\n",
        "text = text.replace(\"\\r\\n\",\"\\n\")\n",
        "text = text.replace(\"\\t\\n\", \"\\n\")\n",
        "text = text.replace(\"\\n\\n\", \"\\n\")\n",
        "text = '\\n'.join(line for line in text.split('\\n') if len(line) >= 7)\n",
        "\n",
        "\n",
        "vocab = sorted(set(text))\n",
        "print ('{} unique characters'.format(len(vocab)))"
      ]
    },
    {
      "cell_type": "code",
      "execution_count": null,
      "metadata": {
        "colab": {
          "base_uri": "https://localhost:8080/"
        },
        "id": "Duhg9NrUymwO",
        "outputId": "ed2b26a3-220a-4b86-d742-326c4d080caf"
      },
      "outputs": [
        {
          "output_type": "stream",
          "name": "stdout",
          "text": [
            "الا يا ايها الساقی ادر کاسا و ناولها\n",
            "که عشق آسان نمود اول ولی افتاد مشکل‌ها\n",
            "به بوی نافه‌ای کاخر صبا زان طره بگشايد\n",
            "ز تاب جعد مشکينش چه خون افتاد در دل‌ها\n",
            "مرا در منزل جانان چه امن عيش چون هر دم\n",
            "جرس فرياد می‌دارد که بربنديد محمل‌ها\n",
            "به می سجاده رنگين کن\n"
          ]
        }
      ],
      "source": [
        "# Take a look at the first 250 characters in text\n",
        "print(text[:250])"
      ]
    },
    {
      "cell_type": "markdown",
      "metadata": {
        "id": "rNnrKn_lL-IJ"
      },
      "source": [
        "## Process the text"
      ]
    },
    {
      "cell_type": "markdown",
      "metadata": {
        "id": "LFjSVAlWzf-N"
      },
      "source": [
        "### Vectorize the text\n",
        "\n",
        "Before training, we need to map strings to a numerical representation. Create two lookup tables: one mapping characters to numbers, and another for numbers to characters."
      ]
    },
    {
      "cell_type": "code",
      "execution_count": null,
      "metadata": {
        "id": "IalZLbvOzf-F"
      },
      "outputs": [],
      "source": [
        "# Creating a mapping from unique characters to indices\n",
        "char2idx = {u:i for i, u in enumerate(vocab)}\n",
        "idx2char = np.array(vocab)\n",
        "\n",
        "text_as_int = np.array([char2idx[c] for c in text])"
      ]
    },
    {
      "cell_type": "markdown",
      "metadata": {
        "id": "tZfqhkYCymwX"
      },
      "source": [
        "Now we have an integer representation for each character. Notice that we mapped the character as indexes from 0 to `len(unique)`."
      ]
    },
    {
      "cell_type": "code",
      "execution_count": null,
      "metadata": {
        "colab": {
          "base_uri": "https://localhost:8080/"
        },
        "id": "FYyNlCNXymwY",
        "outputId": "d9144482-77c5-461e-928e-c3e119384af2"
      },
      "outputs": [
        {
          "output_type": "stream",
          "name": "stdout",
          "text": [
            "{\n",
            "  '\\n':   0,\n",
            "  ' ' :   1,\n",
            "  'Y' :   2,\n",
            "  'آ' :   3,\n",
            "  'ا' :   4,\n",
            "  'ب' :   5,\n",
            "  'ت' :   6,\n",
            "  'ث' :   7,\n",
            "  'ج' :   8,\n",
            "  'ح' :   9,\n",
            "  'خ' :  10,\n",
            "  'د' :  11,\n",
            "  'ذ' :  12,\n",
            "  'ر' :  13,\n",
            "  'ز' :  14,\n",
            "  'س' :  15,\n",
            "  'ش' :  16,\n",
            "  'ص' :  17,\n",
            "  'ض' :  18,\n",
            "  'ط' :  19,\n",
            "  ...\n",
            "}\n"
          ]
        }
      ],
      "source": [
        "print('{')\n",
        "for char,_ in zip(char2idx, range(20)):\n",
        "    print('  {:4s}: {:3d},'.format(repr(char), char2idx[char]))\n",
        "print('  ...\\n}')"
      ]
    },
    {
      "cell_type": "code",
      "execution_count": null,
      "metadata": {
        "colab": {
          "base_uri": "https://localhost:8080/"
        },
        "id": "l1VKcQHcymwb",
        "outputId": "ae3c36bd-3068-4f22-d615-5729af55f8ae"
      },
      "outputs": [
        {
          "output_type": "stream",
          "name": "stdout",
          "text": [
            "'الا يا ايها ا' ---- characters mapped to int ---- > [ 4 25  4  1 30  4  1  4 30 28  4  1  4]\n"
          ]
        }
      ],
      "source": [
        "# Show how the first 13 characters from the text are mapped to integers\n",
        "print ('{} ---- characters mapped to int ---- > {}'.format(repr(text[:13]), text_as_int[:13]))"
      ]
    },
    {
      "cell_type": "markdown",
      "metadata": {
        "id": "bbmsf23Bymwe"
      },
      "source": [
        "### The prediction task"
      ]
    },
    {
      "cell_type": "markdown",
      "metadata": {
        "id": "wssHQ1oGymwe"
      },
      "source": [
        "Given a character, or a sequence of characters, what is the most probable next character? This is the task we're training the model to perform. The input to the model will be a sequence of characters, and we train the model to predict the output—the following character at each time step.\n",
        "\n",
        "Since RNNs maintain an internal state that depends on the previously seen elements, given all the characters computed until this moment, what is the next character?\n"
      ]
    },
    {
      "cell_type": "markdown",
      "metadata": {
        "id": "hgsVvVxnymwf"
      },
      "source": [
        "### Create training examples and targets\n",
        "\n",
        "Next divide the text into example sequences. Each input sequence will contain `seq_length` characters from the text.\n",
        "\n",
        "For each input sequence, the corresponding targets contain the same length of text, except shifted one character to the right.\n",
        "\n",
        "So break the text into chunks of `seq_length+1`. For example, say `seq_length` is 4 and our text is \"Hello\". The input sequence would be \"Hell\", and the target sequence \"ello\".\n",
        "\n",
        "To do this first use the `tf.data.Dataset.from_tensor_slices` function to convert the text vector into a stream of character indices."
      ]
    },
    {
      "cell_type": "code",
      "execution_count": null,
      "metadata": {
        "colab": {
          "base_uri": "https://localhost:8080/"
        },
        "id": "0UHJDA39zf-O",
        "outputId": "a9788118-e89e-4f6d-8fd5-8954073a9ae2"
      },
      "outputs": [
        {
          "output_type": "stream",
          "name": "stdout",
          "text": [
            "ا\n",
            "ل\n",
            "ا\n",
            " \n",
            "ي\n"
          ]
        }
      ],
      "source": [
        "# The maximum length sentence we want for a single input in characters\n",
        "seq_length = 200\n",
        "examples_per_epoch = len(text)//seq_length\n",
        "\n",
        "# Create training examples / targets\n",
        "char_dataset = tf.data.Dataset.from_tensor_slices(text_as_int)\n",
        "\n",
        "for i in char_dataset.take(5):\n",
        "  print(idx2char[i.numpy()])"
      ]
    },
    {
      "cell_type": "markdown",
      "metadata": {
        "id": "-ZSYAcQV8OGP"
      },
      "source": [
        "The `batch` method lets us easily convert these individual characters to sequences of the desired size."
      ]
    },
    {
      "cell_type": "code",
      "execution_count": null,
      "metadata": {
        "colab": {
          "base_uri": "https://localhost:8080/"
        },
        "id": "l4hkDU3i7ozi",
        "outputId": "8924f198-5376-4aba-d4c9-0ad1ce52fcc4"
      },
      "outputs": [
        {
          "output_type": "stream",
          "name": "stdout",
          "text": [
            "'الا يا ايها الساقی ادر کاسا و ناولها\\nکه عشق آسان نمود اول ولی افتاد مشکل\\u200cها\\nبه بوی نافه\\u200cای کاخر صبا زان طره بگشايد\\nز تاب جعد مشکينش چه خون افتاد در دل\\u200cها\\nمرا در منزل جانان چه امن عيش چون هر دم\\nجرس فريا'\n",
            "'د می\\u200cدارد که بربنديد محمل\\u200cها\\nبه می سجاده رنگين کن گرت پير مغان گويد\\nکه سالک بی\\u200cخبر نبود ز راه و رسم منزل\\u200cها\\nشب تاريک و بيم موج و گردابی چنين هايل\\nکجا دانند حال ما سبکباران ساحل\\u200cها\\nهمه کارم ز خود کامی ب'\n",
            "'ه بدنامی کشيد آخر\\nنهان کی ماند آن رازی کز او سازند محفل\\u200cها\\nحضوری گر همی\\u200cخواهی از او غايب مشو حافظ\\nمتی ما تلق من تهوی دع الدنيا و اهملها\\nصلاح کار کجا و من خراب کجا\\nببين تفاوت ره کز کجاست تا به کجا\\nدلم ز'\n",
            "' صومعه بگرفت و خرقه سالوس\\nکجاست دير مغان و شراب ناب کجا\\nچه نسبت است به رندی صلاح و تقوا را\\nسماع وعظ کجا نغمه رباب کجا\\nز روی دوست دل دشمنان چه دريابد\\nچراغ مرده کجا شمع آفتاب کجا\\nچو کحل بينش ما خاک آستان'\n",
            "' شماست\\nکجا رويم بفرما از اين جناب کجا\\nمبين به سيب زنخدان که چاه در راه است\\nکجا همی\\u200cروی ای دل بدين شتاب کجا\\nبشد که ياد خوشش باد روزگار وصال\\nخود آن کرشمه کجا رفت و آن عتاب کجا\\nقرار و خواب ز حافظ طمع مدار'\n"
          ]
        }
      ],
      "source": [
        "sequences = char_dataset.batch(seq_length+1, drop_remainder=True)\n",
        "\n",
        "for item in sequences.take(5):\n",
        "  print(repr(''.join(idx2char[item.numpy()])))"
      ]
    },
    {
      "cell_type": "markdown",
      "metadata": {
        "id": "UbLcIPBj_mWZ"
      },
      "source": [
        "For each sequence, duplicate and shift it to form the input and target text by using the `map` method to apply a simple function to each batch:"
      ]
    },
    {
      "cell_type": "code",
      "execution_count": null,
      "metadata": {
        "id": "9NGu-FkO_kYU"
      },
      "outputs": [],
      "source": [
        "def split_input_target(chunk):\n",
        "    input_text = chunk[:-1]\n",
        "    target_text = chunk[1:]\n",
        "    return input_text, target_text\n",
        "\n",
        "dataset = sequences.map(split_input_target)"
      ]
    },
    {
      "cell_type": "markdown",
      "metadata": {
        "id": "hiCopyGZymwi"
      },
      "source": [
        "Print the first examples input and target values:"
      ]
    },
    {
      "cell_type": "code",
      "execution_count": null,
      "metadata": {
        "colab": {
          "base_uri": "https://localhost:8080/"
        },
        "id": "GNbw-iR0ymwj",
        "outputId": "33ce143c-b551-41ab-a311-55957703efb7"
      },
      "outputs": [
        {
          "output_type": "stream",
          "name": "stdout",
          "text": [
            "Input data:  'الا يا ايها الساقی ادر کاسا و ناولها\\nکه عشق آسان نمود اول ولی افتاد مشکل\\u200cها\\nبه بوی نافه\\u200cای کاخر صبا زان طره بگشايد\\nز تاب جعد مشکينش چه خون افتاد در دل\\u200cها\\nمرا در منزل جانان چه امن عيش چون هر دم\\nجرس فري'\n",
            "Target data: 'لا يا ايها الساقی ادر کاسا و ناولها\\nکه عشق آسان نمود اول ولی افتاد مشکل\\u200cها\\nبه بوی نافه\\u200cای کاخر صبا زان طره بگشايد\\nز تاب جعد مشکينش چه خون افتاد در دل\\u200cها\\nمرا در منزل جانان چه امن عيش چون هر دم\\nجرس فريا'\n"
          ]
        }
      ],
      "source": [
        "for input_example, target_example in  dataset.take(1):\n",
        "  print ('Input data: ', repr(''.join(idx2char[input_example.numpy()])))\n",
        "  print ('Target data:', repr(''.join(idx2char[target_example.numpy()])))"
      ]
    },
    {
      "cell_type": "markdown",
      "metadata": {
        "id": "_33OHL3b84i0"
      },
      "source": [
        "Each index of these vectors are processed as one time step. For the input at time step 0, the model receives the index for \"F\" and tries to predict the index for \"i\" as the next character. At the next timestep, it does the same thing but the `RNN` considers the previous step context in addition to the current input character."
      ]
    },
    {
      "cell_type": "code",
      "execution_count": null,
      "metadata": {
        "colab": {
          "base_uri": "https://localhost:8080/"
        },
        "id": "0eBu9WZG84i0",
        "outputId": "9dce2a02-74ba-41d4-db07-bd2b4083e81c"
      },
      "outputs": [
        {
          "output_type": "stream",
          "name": "stdout",
          "text": [
            "Step    0\n",
            "  input: 4 ('ا')\n",
            "  expected output: 25 ('ل')\n",
            "Step    1\n",
            "  input: 25 ('ل')\n",
            "  expected output: 4 ('ا')\n",
            "Step    2\n",
            "  input: 4 ('ا')\n",
            "  expected output: 1 (' ')\n",
            "Step    3\n",
            "  input: 1 (' ')\n",
            "  expected output: 30 ('ي')\n",
            "Step    4\n",
            "  input: 30 ('ي')\n",
            "  expected output: 4 ('ا')\n"
          ]
        }
      ],
      "source": [
        "for i, (input_idx, target_idx) in enumerate(zip(input_example[:5], target_example[:5])):\n",
        "    print(\"Step {:4d}\".format(i))\n",
        "    print(\"  input: {} ({:s})\".format(input_idx, repr(idx2char[input_idx])))\n",
        "    print(\"  expected output: {} ({:s})\".format(target_idx, repr(idx2char[target_idx])))"
      ]
    },
    {
      "cell_type": "markdown",
      "metadata": {
        "id": "MJdfPmdqzf-R"
      },
      "source": [
        "### Create training batches\n",
        "\n",
        "We used `tf.data` to split the text into manageable sequences. But before feeding this data into the model, we need to shuffle the data and pack it into batches."
      ]
    },
    {
      "cell_type": "code",
      "execution_count": null,
      "metadata": {
        "colab": {
          "base_uri": "https://localhost:8080/"
        },
        "id": "p2pGotuNzf-S",
        "outputId": "bb9ba9cc-8745-4844-dd5a-c02435592764"
      },
      "outputs": [
        {
          "output_type": "execute_result",
          "data": {
            "text/plain": [
              "<_BatchDataset element_spec=(TensorSpec(shape=(128, 200), dtype=tf.int64, name=None), TensorSpec(shape=(128, 200), dtype=tf.int64, name=None))>"
            ]
          },
          "metadata": {},
          "execution_count": 16
        }
      ],
      "source": [
        "# Batch size\n",
        "BATCH_SIZE = 128\n",
        "steps_per_epoch = examples_per_epoch//BATCH_SIZE\n",
        "\n",
        "# Buffer size to shuffle the dataset\n",
        "# (TF data is designed to work with possibly infinite sequences,\n",
        "# so it doesn't attempt to shuffle the entire sequence in memory. Instead,\n",
        "# it maintains a buffer in which it shuffles elements).\n",
        "BUFFER_SIZE = 10000\n",
        "\n",
        "dataset = dataset.shuffle(BUFFER_SIZE).batch(BATCH_SIZE, drop_remainder=True)\n",
        "\n",
        "dataset"
      ]
    },
    {
      "cell_type": "markdown",
      "metadata": {
        "id": "r6oUuElIMgVx"
      },
      "source": [
        "## Build The Model"
      ]
    },
    {
      "cell_type": "markdown",
      "metadata": {
        "id": "m8gPwEjRzf-Z"
      },
      "source": [
        "Use `tf.keras.Sequential` to define the model. For this simple example three layers are used to define our model:\n",
        "\n",
        "* `tf.keras.layers.Embedding`: The input layer. A trainable lookup table that will map the numbers of each character to a vector with `embedding_dim` dimensions;\n",
        "* `tf.keras.layers.GRU`: A type of RNN with size `units=rnn_units` (You can also use a LSTM layer here.)\n",
        "* `tf.keras.layers.Dense`: The output layer, with `vocab_size` outputs."
      ]
    },
    {
      "cell_type": "code",
      "execution_count": null,
      "metadata": {
        "id": "zHT8cLh7EAsg"
      },
      "outputs": [],
      "source": [
        "# Length of the vocabulary in chars\n",
        "vocab_size = len(vocab)\n",
        "\n",
        "# The embedding dimension\n",
        "embedding_dim = 256\n",
        "\n",
        "# Number of RNN units\n",
        "rnn_units = 1024"
      ]
    },
    {
      "cell_type": "markdown",
      "metadata": {
        "id": "NNVB-jmMEOzP"
      },
      "source": [
        "Next define a function to build the model."
      ]
    },
    {
      "cell_type": "code",
      "execution_count": null,
      "metadata": {
        "id": "MtCrdfzEI2N0"
      },
      "outputs": [],
      "source": [
        "def build_model(vocab_size, embedding_dim, rnn_units, batch_size):\n",
        "  model = tf.keras.Sequential([\n",
        "    tf.keras.layers.Embedding(vocab_size, embedding_dim,\n",
        "                              batch_input_shape=[batch_size, None]),\n",
        "    tf.keras.layers.GRU(rnn_units,\n",
        "        return_sequences=True,\n",
        "        recurrent_initializer='glorot_uniform',\n",
        "        stateful=True),\n",
        "    tf.keras.layers.Dense(vocab_size)\n",
        "  ])\n",
        "  return model"
      ]
    },
    {
      "cell_type": "code",
      "execution_count": null,
      "metadata": {
        "id": "wwsrpOik5zhv"
      },
      "outputs": [],
      "source": [
        "model = build_model(\n",
        "  vocab_size = len(vocab),\n",
        "  embedding_dim=embedding_dim,\n",
        "  rnn_units=rnn_units,\n",
        "  batch_size=BATCH_SIZE)"
      ]
    },
    {
      "cell_type": "markdown",
      "metadata": {
        "id": "RkA5upJIJ7W7"
      },
      "source": [
        "For each character the model looks up the embedding, runs the GRU one timestep with the embedding as input, and applies the dense layer to generate logits predicting the log-liklihood of the next character:\n",
        "\n",
        "![A drawing of the data passing through the model](https://tensorflow.org/tutorials/sequences/images/text_generation_training.png)"
      ]
    },
    {
      "cell_type": "markdown",
      "metadata": {
        "id": "-ubPo0_9Prjb"
      },
      "source": [
        "## Try the model\n",
        "\n",
        "Now run the model to see that it behaves as expected.\n",
        "\n",
        "First check the shape of the output:"
      ]
    },
    {
      "cell_type": "code",
      "execution_count": null,
      "metadata": {
        "colab": {
          "base_uri": "https://localhost:8080/"
        },
        "id": "C-_70kKAPrPU",
        "outputId": "c26d42ac-d239-4751-b2f9-d814880eb79b"
      },
      "outputs": [
        {
          "output_type": "stream",
          "name": "stdout",
          "text": [
            "(128, 200, 48) # (batch_size, sequence_length, vocab_size)\n"
          ]
        }
      ],
      "source": [
        "for input_example_batch, target_example_batch in dataset.take(1):\n",
        "  example_batch_predictions = model(input_example_batch)\n",
        "  print(example_batch_predictions.shape, \"# (batch_size, sequence_length, vocab_size)\")"
      ]
    },
    {
      "cell_type": "markdown",
      "metadata": {
        "id": "Q6NzLBi4VM4o"
      },
      "source": [
        "In the above example the sequence length of the input is `100` but the model can be run on inputs of any length:"
      ]
    },
    {
      "cell_type": "code",
      "execution_count": null,
      "metadata": {
        "colab": {
          "base_uri": "https://localhost:8080/"
        },
        "id": "vPGmAAXmVLGC",
        "outputId": "da3b34cd-8ee7-4275-a017-58f432bcfdca"
      },
      "outputs": [
        {
          "output_type": "stream",
          "name": "stdout",
          "text": [
            "Model: \"sequential\"\n",
            "_________________________________________________________________\n",
            " Layer (type)                Output Shape              Param #   \n",
            "=================================================================\n",
            " embedding (Embedding)       (128, None, 256)          12288     \n",
            "                                                                 \n",
            " gru (GRU)                   (128, None, 1024)         3938304   \n",
            "                                                                 \n",
            " dense (Dense)               (128, None, 48)           49200     \n",
            "                                                                 \n",
            "=================================================================\n",
            "Total params: 3,999,792\n",
            "Trainable params: 3,999,792\n",
            "Non-trainable params: 0\n",
            "_________________________________________________________________\n"
          ]
        }
      ],
      "source": [
        "model.summary()"
      ]
    },
    {
      "cell_type": "markdown",
      "metadata": {
        "id": "uwv0gEkURfx1"
      },
      "source": [
        "To get actual predictions from the model we need to sample from the output distribution, to get actual character indices. This distribution is defined by the logits over the character vocabulary.\n",
        "\n",
        "Note: It is important to _sample_ from this distribution as taking the _argmax_ of the distribution can easily get the model stuck in a loop.\n",
        "\n",
        "Try it for the first example in the batch:"
      ]
    },
    {
      "cell_type": "code",
      "execution_count": null,
      "metadata": {
        "id": "4V4MfFg0RQJg"
      },
      "outputs": [],
      "source": [
        "sampled_indices = tf.random.categorical(example_batch_predictions[0], num_samples=1)\n",
        "sampled_indices = tf.squeeze(sampled_indices,axis=-1).numpy()"
      ]
    },
    {
      "cell_type": "markdown",
      "metadata": {
        "id": "QM1Vbxs_URw5"
      },
      "source": [
        "This gives us, at each timestep, a prediction of the next character index:"
      ]
    },
    {
      "cell_type": "code",
      "execution_count": null,
      "metadata": {
        "colab": {
          "base_uri": "https://localhost:8080/"
        },
        "id": "YqFMUQc_UFgM",
        "outputId": "a0c1492c-ded5-4e6a-8133-aa504e5b2838"
      },
      "outputs": [
        {
          "output_type": "stream",
          "name": "stdout",
          "text": [
            "200\n"
          ]
        },
        {
          "output_type": "execute_result",
          "data": {
            "text/plain": [
              "array([ 2, 12, 21, 20, 15, 39, 41, 38,  2, 37, 39, 25,  1, 28, 31, 33, 37,\n",
              "       40,  3,  2, 27,  9, 15, 17, 41,  7,  7,  2, 13, 33,  2, 31, 25, 23,\n",
              "       39,  7,  8,  7, 26, 44, 26, 41, 10,  4, 47, 16,  7, 35, 18, 37,  7,\n",
              "       25, 20, 22, 16, 28, 40, 21, 15, 46, 33,  5, 42,  5, 13, 47,  1,  7,\n",
              "        3,  5, 32,  7, 38,  4,  8, 16, 28,  3,  8, 25, 35, 46,  8,  7, 23,\n",
              "       25, 38,  2, 13, 15,  5, 34, 22, 39, 36, 44, 33,  9, 42, 26,  4, 34,\n",
              "       46, 20, 42, 19,  8,  8, 26, 32, 16,  0,  5, 30, 12, 33,  2, 40,  3,\n",
              "       10, 45, 15, 30, 44, 47, 24,  3,  8, 15,  8, 46,  5, 36, 25, 47, 34,\n",
              "        5, 10, 35,  4, 27, 26, 11, 45,  9, 42, 46, 36, 34,  5, 30, 15, 22,\n",
              "       46,  1, 35, 18, 25, 18,  6, 41, 40, 42, 40, 35, 26, 13, 23,  3, 35,\n",
              "       45,  7, 37, 30, 34, 12, 36, 32,  1, 24,  6,  7,  6,  5, 34, 24, 18,\n",
              "       12, 42,  7, 36,  0,  0, 21,  7, 32,  1, 11,  6, 14])"
            ]
          },
          "metadata": {},
          "execution_count": 23
        }
      ],
      "source": [
        "print(len(sampled_indices))\n",
        "sampled_indices"
      ]
    },
    {
      "cell_type": "markdown",
      "metadata": {
        "id": "LfLtsP3mUhCG"
      },
      "source": [
        "Decode these to see the text predicted by this untrained model:"
      ]
    },
    {
      "cell_type": "code",
      "execution_count": null,
      "metadata": {
        "colab": {
          "base_uri": "https://localhost:8080/"
        },
        "id": "xWcFwPwLSo05",
        "outputId": "9ba28d9d-db68-46e9-de54-31ae9b158dac"
      },
      "outputs": [
        {
          "output_type": "stream",
          "name": "stdout",
          "text": [
            "Input: \n",
            " 'ظی دامی\\nگله از زاهد بدخو نکنم رسم اين است\\nکه چو صبحی بدمد در پی اش افتد شامی\\nيار من چون بخرامد به تماشای چمن\\nبرسانش ز من ای پيک صبا پيغامی\\nآن حريفی که شب و روز می صاف کشد\\nبود آيا که کند ياد ز دردآشامی'\n",
            "\n",
            "Next Char Predictions: \n",
            " 'Yذعظس۲۴۱Y۰۲ل هپژ۰۳آYنحسص۴ثثYرژYپلف۲ثجثم۷م۴خا\\u200cشثگض۰ثلظغشه۳عس۹ژب۵بر\\u200c ثآبچث۱اجشهآجلگ۹جثفل۱Yرسبکغ۲ی۷ژح۵ماک۹ظ۵طججمچش\\nبيذژY۳آخ۸سي۷\\u200cقآجسج۹بیل\\u200cکبخگانمد۸ح۵۹یکبيسغ۹ گضلضت۴۳۵۳گمرفآگ۸ث۰يکذیچ قتثتبکقضذ۵ثی\\n\\nعثچ دتز'\n"
          ]
        }
      ],
      "source": [
        "print(\"Input: \\n\", repr(\"\".join(idx2char[input_example_batch[0].numpy()])))\n",
        "print()\n",
        "print(\"Next Char Predictions: \\n\", repr(\"\".join(idx2char[sampled_indices ])))"
      ]
    },
    {
      "cell_type": "markdown",
      "metadata": {
        "id": "LJL0Q0YPY6Ee"
      },
      "source": [
        "## Train the model"
      ]
    },
    {
      "cell_type": "markdown",
      "metadata": {
        "id": "YCbHQHiaa4Ic"
      },
      "source": [
        "At this point the problem can be treated as a standard classification problem. Given the previous RNN state, and the input this time step, predict the class of the next character."
      ]
    },
    {
      "cell_type": "markdown",
      "metadata": {
        "id": "trpqTWyvk0nr"
      },
      "source": [
        "### Attach an optimizer, and a loss function"
      ]
    },
    {
      "cell_type": "markdown",
      "metadata": {
        "id": "UAjbjY03eiQ4"
      },
      "source": [
        "The standard `tf.keras.losses.sparse_softmax_crossentropy` loss function works in this case because it is applied across the last dimension of the predictions.\n",
        "\n",
        "Because our model returns logits, we need to set the `from_logits` flag.\n"
      ]
    },
    {
      "cell_type": "code",
      "execution_count": null,
      "metadata": {
        "colab": {
          "base_uri": "https://localhost:8080/"
        },
        "id": "4HrXTACTdzY-",
        "outputId": "861a6463-34bd-48fb-f992-9cc99edf4178"
      },
      "outputs": [
        {
          "output_type": "stream",
          "name": "stdout",
          "text": [
            "Prediction shape:  (128, 200, 48)  # (batch_size, sequence_length, vocab_size)\n",
            "scalar_loss:       3.8705091\n"
          ]
        }
      ],
      "source": [
        "def loss(labels, logits):\n",
        "  return tf.keras.losses.sparse_categorical_crossentropy(labels, logits, from_logits=True)\n",
        "\n",
        "example_batch_loss  = loss(target_example_batch, example_batch_predictions)\n",
        "print(\"Prediction shape: \", example_batch_predictions.shape, \" # (batch_size, sequence_length, vocab_size)\")\n",
        "print(\"scalar_loss:      \", example_batch_loss.numpy().mean())"
      ]
    },
    {
      "cell_type": "markdown",
      "metadata": {
        "id": "jeOXriLcymww"
      },
      "source": [
        "Configure the training procedure using the `tf.keras.Model.compile` method. We'll use `tf.train.AdamOptimizer` with default arguments and the loss function."
      ]
    },
    {
      "cell_type": "code",
      "execution_count": null,
      "metadata": {
        "id": "DDl1_Een6rL0"
      },
      "outputs": [],
      "source": [
        "model.compile(\n",
        "    optimizer='adam',\n",
        "    loss = loss,\n",
        "    metrics=['accuracy'])"
      ]
    },
    {
      "cell_type": "markdown",
      "metadata": {
        "id": "ieSJdchZggUj"
      },
      "source": [
        "### Configure checkpoints"
      ]
    },
    {
      "cell_type": "markdown",
      "metadata": {
        "id": "C6XBUUavgF56"
      },
      "source": [
        "Use a `tf.keras.callbacks.ModelCheckpoint` to ensure that checkpoints are saved during training:"
      ]
    },
    {
      "cell_type": "code",
      "execution_count": null,
      "metadata": {
        "id": "W6fWTriUZP-n"
      },
      "outputs": [],
      "source": [
        "# Directory where the checkpoints will be saved\n",
        "checkpoint_dir = './training_checkpoints'\n",
        "# Name of the checkpoint files\n",
        "checkpoint_prefix = os.path.join(checkpoint_dir, \"ckpt_{epoch}\")\n",
        "\n",
        "checkpoint_callback=tf.keras.callbacks.ModelCheckpoint(\n",
        "    filepath=checkpoint_prefix,\n",
        "    save_weights_only=True)"
      ]
    },
    {
      "cell_type": "markdown",
      "metadata": {
        "id": "3Ky3F_BhgkTW"
      },
      "source": [
        "### Execute the training"
      ]
    },
    {
      "cell_type": "markdown",
      "metadata": {
        "id": "IxdOA-rgyGvs"
      },
      "source": [
        "To keep training time reasonable, use 3 epochs to train the model. In Colab, set the runtime to GPU for faster training."
      ]
    },
    {
      "cell_type": "code",
      "execution_count": null,
      "metadata": {
        "id": "7yGBE2zxMMHs"
      },
      "outputs": [],
      "source": [
        "EPOCHS=100"
      ]
    },
    {
      "cell_type": "code",
      "execution_count": null,
      "metadata": {
        "colab": {
          "base_uri": "https://localhost:8080/"
        },
        "id": "UK-hmKjYVoll",
        "outputId": "06a42317-bbb3-421b-a05e-c7a67827550b"
      },
      "outputs": [
        {
          "output_type": "stream",
          "name": "stdout",
          "text": [
            "Epoch 1/100\n",
            "10/10 [==============================] - 7s 217ms/step - loss: 4.6624 - accuracy: 0.1785\n",
            "Epoch 2/100\n",
            "10/10 [==============================] - 2s 200ms/step - loss: 3.6674 - accuracy: 0.1633\n",
            "Epoch 3/100\n",
            "10/10 [==============================] - 2s 204ms/step - loss: 3.3169 - accuracy: 0.1920\n",
            "Epoch 4/100\n",
            "10/10 [==============================] - 2s 194ms/step - loss: 2.9312 - accuracy: 0.2258\n",
            "Epoch 5/100\n",
            "10/10 [==============================] - 2s 221ms/step - loss: 2.8126 - accuracy: 0.2474\n",
            "Epoch 6/100\n",
            "10/10 [==============================] - 2s 197ms/step - loss: 2.7184 - accuracy: 0.2667\n",
            "Epoch 7/100\n",
            "10/10 [==============================] - 2s 194ms/step - loss: 2.6480 - accuracy: 0.2829\n",
            "Epoch 8/100\n",
            "10/10 [==============================] - 2s 199ms/step - loss: 2.5919 - accuracy: 0.2916\n",
            "Epoch 9/100\n",
            "10/10 [==============================] - 2s 196ms/step - loss: 2.5513 - accuracy: 0.2940\n",
            "Epoch 10/100\n",
            "10/10 [==============================] - 2s 196ms/step - loss: 2.5188 - accuracy: 0.2978\n",
            "Epoch 11/100\n",
            "10/10 [==============================] - 2s 204ms/step - loss: 2.4901 - accuracy: 0.3043\n",
            "Epoch 12/100\n",
            "10/10 [==============================] - 2s 217ms/step - loss: 2.4645 - accuracy: 0.3104\n",
            "Epoch 13/100\n",
            "10/10 [==============================] - 2s 198ms/step - loss: 2.4406 - accuracy: 0.3156\n",
            "Epoch 14/100\n",
            "10/10 [==============================] - 2s 200ms/step - loss: 2.4172 - accuracy: 0.3216\n",
            "Epoch 15/100\n",
            "10/10 [==============================] - 2s 197ms/step - loss: 2.3895 - accuracy: 0.3277\n",
            "Epoch 16/100\n",
            "10/10 [==============================] - 2s 202ms/step - loss: 2.3608 - accuracy: 0.3341\n",
            "Epoch 17/100\n",
            "10/10 [==============================] - 2s 198ms/step - loss: 2.3343 - accuracy: 0.3398\n",
            "Epoch 18/100\n",
            "10/10 [==============================] - 2s 219ms/step - loss: 2.3098 - accuracy: 0.3442\n",
            "Epoch 19/100\n",
            "10/10 [==============================] - 2s 203ms/step - loss: 2.2873 - accuracy: 0.3505\n",
            "Epoch 20/100\n",
            "10/10 [==============================] - 2s 199ms/step - loss: 2.2621 - accuracy: 0.3564\n",
            "Epoch 21/100\n",
            "10/10 [==============================] - 2s 200ms/step - loss: 2.2366 - accuracy: 0.3626\n",
            "Epoch 22/100\n",
            "10/10 [==============================] - 2s 204ms/step - loss: 2.2152 - accuracy: 0.3676\n",
            "Epoch 23/100\n",
            "10/10 [==============================] - 2s 202ms/step - loss: 2.1994 - accuracy: 0.3710\n",
            "Epoch 24/100\n",
            "10/10 [==============================] - 2s 214ms/step - loss: 2.1768 - accuracy: 0.3772\n",
            "Epoch 25/100\n",
            "10/10 [==============================] - 2s 208ms/step - loss: 2.1589 - accuracy: 0.3832\n",
            "Epoch 26/100\n",
            "10/10 [==============================] - 2s 202ms/step - loss: 2.1406 - accuracy: 0.3877\n",
            "Epoch 27/100\n",
            "10/10 [==============================] - 2s 202ms/step - loss: 2.1303 - accuracy: 0.3904\n",
            "Epoch 28/100\n",
            "10/10 [==============================] - 2s 209ms/step - loss: 2.1101 - accuracy: 0.3962\n",
            "Epoch 29/100\n",
            "10/10 [==============================] - 2s 203ms/step - loss: 2.0949 - accuracy: 0.4005\n",
            "Epoch 30/100\n",
            "10/10 [==============================] - 2s 209ms/step - loss: 2.0820 - accuracy: 0.4025\n",
            "Epoch 31/100\n",
            "10/10 [==============================] - 2s 207ms/step - loss: 2.0648 - accuracy: 0.4082\n",
            "Epoch 32/100\n",
            "10/10 [==============================] - 2s 203ms/step - loss: 2.0511 - accuracy: 0.4116\n",
            "Epoch 33/100\n",
            "10/10 [==============================] - 2s 203ms/step - loss: 2.0388 - accuracy: 0.4149\n",
            "Epoch 34/100\n",
            "10/10 [==============================] - 2s 209ms/step - loss: 2.0187 - accuracy: 0.4216\n",
            "Epoch 35/100\n",
            "10/10 [==============================] - 2s 202ms/step - loss: 2.0046 - accuracy: 0.4251\n",
            "Epoch 36/100\n",
            "10/10 [==============================] - 2s 221ms/step - loss: 1.9870 - accuracy: 0.4308\n",
            "Epoch 37/100\n",
            "10/10 [==============================] - 2s 209ms/step - loss: 1.9758 - accuracy: 0.4341\n",
            "Epoch 38/100\n",
            "10/10 [==============================] - 2s 205ms/step - loss: 1.9567 - accuracy: 0.4399\n",
            "Epoch 39/100\n",
            "10/10 [==============================] - 2s 205ms/step - loss: 1.9413 - accuracy: 0.4435\n",
            "Epoch 40/100\n",
            "10/10 [==============================] - 2s 210ms/step - loss: 1.9238 - accuracy: 0.4484\n",
            "Epoch 41/100\n",
            "10/10 [==============================] - 2s 205ms/step - loss: 1.9111 - accuracy: 0.4514\n",
            "Epoch 42/100\n",
            "10/10 [==============================] - 2s 215ms/step - loss: 1.8937 - accuracy: 0.4562\n",
            "Epoch 43/100\n",
            "10/10 [==============================] - 2s 214ms/step - loss: 1.8810 - accuracy: 0.4592\n",
            "Epoch 44/100\n",
            "10/10 [==============================] - 2s 205ms/step - loss: 1.8645 - accuracy: 0.4643\n",
            "Epoch 45/100\n",
            "10/10 [==============================] - 2s 209ms/step - loss: 1.8462 - accuracy: 0.4702\n",
            "Epoch 46/100\n",
            "10/10 [==============================] - 2s 210ms/step - loss: 1.8328 - accuracy: 0.4729\n",
            "Epoch 47/100\n",
            "10/10 [==============================] - 2s 206ms/step - loss: 1.8191 - accuracy: 0.4777\n",
            "Epoch 48/100\n",
            "10/10 [==============================] - 2s 217ms/step - loss: 1.7975 - accuracy: 0.4829\n",
            "Epoch 49/100\n",
            "10/10 [==============================] - 2s 211ms/step - loss: 1.7845 - accuracy: 0.4866\n",
            "Epoch 50/100\n",
            "10/10 [==============================] - 2s 207ms/step - loss: 1.7704 - accuracy: 0.4900\n",
            "Epoch 51/100\n",
            "10/10 [==============================] - 2s 207ms/step - loss: 1.7523 - accuracy: 0.4950\n",
            "Epoch 52/100\n",
            "10/10 [==============================] - 2s 211ms/step - loss: 1.7377 - accuracy: 0.4995\n",
            "Epoch 53/100\n",
            "10/10 [==============================] - 2s 209ms/step - loss: 1.7205 - accuracy: 0.5037\n",
            "Epoch 54/100\n",
            "10/10 [==============================] - 2s 231ms/step - loss: 1.7045 - accuracy: 0.5077\n",
            "Epoch 55/100\n",
            "10/10 [==============================] - 2s 213ms/step - loss: 1.6887 - accuracy: 0.5122\n",
            "Epoch 56/100\n",
            "10/10 [==============================] - 2s 210ms/step - loss: 1.6725 - accuracy: 0.5161\n",
            "Epoch 57/100\n",
            "10/10 [==============================] - 2s 209ms/step - loss: 1.6537 - accuracy: 0.5220\n",
            "Epoch 58/100\n",
            "10/10 [==============================] - 2s 213ms/step - loss: 1.6386 - accuracy: 0.5266\n",
            "Epoch 59/100\n",
            "10/10 [==============================] - 2s 209ms/step - loss: 1.6210 - accuracy: 0.5300\n",
            "Epoch 60/100\n",
            "10/10 [==============================] - 2s 232ms/step - loss: 1.6048 - accuracy: 0.5353\n",
            "Epoch 61/100\n",
            "10/10 [==============================] - 2s 215ms/step - loss: 1.5854 - accuracy: 0.5403\n",
            "Epoch 62/100\n",
            "10/10 [==============================] - 2s 210ms/step - loss: 1.5660 - accuracy: 0.5455\n",
            "Epoch 63/100\n",
            "10/10 [==============================] - 2s 212ms/step - loss: 1.5504 - accuracy: 0.5504\n",
            "Epoch 64/100\n",
            "10/10 [==============================] - 2s 216ms/step - loss: 1.5341 - accuracy: 0.5553\n",
            "Epoch 65/100\n",
            "10/10 [==============================] - 2s 219ms/step - loss: 1.5134 - accuracy: 0.5604\n",
            "Epoch 66/100\n",
            "10/10 [==============================] - 2s 218ms/step - loss: 1.4936 - accuracy: 0.5663\n",
            "Epoch 67/100\n",
            "10/10 [==============================] - 2s 213ms/step - loss: 1.4741 - accuracy: 0.5714\n",
            "Epoch 68/100\n",
            "10/10 [==============================] - 2s 214ms/step - loss: 1.4502 - accuracy: 0.5791\n",
            "Epoch 69/100\n",
            "10/10 [==============================] - 2s 213ms/step - loss: 1.4319 - accuracy: 0.5843\n",
            "Epoch 70/100\n",
            "10/10 [==============================] - 2s 213ms/step - loss: 1.4107 - accuracy: 0.5896\n",
            "Epoch 71/100\n",
            "10/10 [==============================] - 2s 228ms/step - loss: 1.3874 - accuracy: 0.5975\n",
            "Epoch 72/100\n",
            "10/10 [==============================] - 2s 214ms/step - loss: 1.3669 - accuracy: 0.6034\n",
            "Epoch 73/100\n",
            "10/10 [==============================] - 2s 216ms/step - loss: 1.3435 - accuracy: 0.6104\n",
            "Epoch 74/100\n",
            "10/10 [==============================] - 2s 210ms/step - loss: 1.3211 - accuracy: 0.6170\n",
            "Epoch 75/100\n",
            "10/10 [==============================] - 2s 212ms/step - loss: 1.2960 - accuracy: 0.6246\n",
            "Epoch 76/100\n",
            "10/10 [==============================] - 2s 217ms/step - loss: 1.2708 - accuracy: 0.6330\n",
            "Epoch 77/100\n",
            "10/10 [==============================] - 2s 217ms/step - loss: 1.2505 - accuracy: 0.6381\n",
            "Epoch 78/100\n",
            "10/10 [==============================] - 2s 213ms/step - loss: 1.2226 - accuracy: 0.6476\n",
            "Epoch 79/100\n",
            "10/10 [==============================] - 2s 218ms/step - loss: 1.1980 - accuracy: 0.6560\n",
            "Epoch 80/100\n",
            "10/10 [==============================] - 2s 214ms/step - loss: 1.1653 - accuracy: 0.6663\n",
            "Epoch 81/100\n",
            "10/10 [==============================] - 2s 213ms/step - loss: 1.1367 - accuracy: 0.6768\n",
            "Epoch 82/100\n",
            "10/10 [==============================] - 2s 218ms/step - loss: 1.1086 - accuracy: 0.6864\n",
            "Epoch 83/100\n",
            "10/10 [==============================] - 2s 218ms/step - loss: 1.0801 - accuracy: 0.6949\n",
            "Epoch 84/100\n",
            "10/10 [==============================] - 2s 215ms/step - loss: 1.0530 - accuracy: 0.7041\n",
            "Epoch 85/100\n",
            "10/10 [==============================] - 2s 214ms/step - loss: 1.0244 - accuracy: 0.7136\n",
            "Epoch 86/100\n",
            "10/10 [==============================] - 2s 214ms/step - loss: 0.9970 - accuracy: 0.7226\n",
            "Epoch 87/100\n",
            "10/10 [==============================] - 2s 213ms/step - loss: 0.9632 - accuracy: 0.7347\n",
            "Epoch 88/100\n",
            "10/10 [==============================] - 2s 220ms/step - loss: 0.9310 - accuracy: 0.7468\n",
            "Epoch 89/100\n",
            "10/10 [==============================] - 2s 220ms/step - loss: 0.8937 - accuracy: 0.7606\n",
            "Epoch 90/100\n",
            "10/10 [==============================] - 2s 214ms/step - loss: 0.8644 - accuracy: 0.7718\n",
            "Epoch 91/100\n",
            "10/10 [==============================] - 2s 220ms/step - loss: 0.8327 - accuracy: 0.7823\n",
            "Epoch 92/100\n",
            "10/10 [==============================] - 2s 215ms/step - loss: 0.7994 - accuracy: 0.7948\n",
            "Epoch 93/100\n",
            "10/10 [==============================] - 2s 214ms/step - loss: 0.7678 - accuracy: 0.8061\n",
            "Epoch 94/100\n",
            "10/10 [==============================] - 2s 219ms/step - loss: 0.7372 - accuracy: 0.8180\n",
            "Epoch 95/100\n",
            "10/10 [==============================] - 2s 221ms/step - loss: 0.7089 - accuracy: 0.8277\n",
            "Epoch 96/100\n",
            "10/10 [==============================] - 2s 215ms/step - loss: 0.6796 - accuracy: 0.8378\n",
            "Epoch 97/100\n",
            "10/10 [==============================] - 2s 218ms/step - loss: 0.6517 - accuracy: 0.8479\n",
            "Epoch 98/100\n",
            "10/10 [==============================] - 2s 215ms/step - loss: 0.6182 - accuracy: 0.8611\n",
            "Epoch 99/100\n",
            "10/10 [==============================] - 2s 218ms/step - loss: 0.5903 - accuracy: 0.8710\n",
            "Epoch 100/100\n",
            "10/10 [==============================] - 2s 233ms/step - loss: 0.5594 - accuracy: 0.8823\n"
          ]
        }
      ],
      "source": [
        "history = model.fit(dataset.repeat(), epochs=EPOCHS, steps_per_epoch=steps_per_epoch,\n",
        "                    callbacks=[checkpoint_callback])"
      ]
    },
    {
      "cell_type": "markdown",
      "metadata": {
        "id": "kKkD5M6eoSiN"
      },
      "source": [
        "## Generate text"
      ]
    },
    {
      "cell_type": "markdown",
      "metadata": {
        "id": "JIPcXllKjkdr"
      },
      "source": [
        "### Restore the latest checkpoint"
      ]
    },
    {
      "cell_type": "markdown",
      "metadata": {
        "id": "LyeYRiuVjodY"
      },
      "source": [
        "To keep this prediction step simple, use a batch size of 1.\n",
        "\n",
        "Because of the way the RNN state is passed from timestep to timestep, the model only accepts a fixed batch size once built.\n",
        "\n",
        "To run the model with a different `batch_size`, we need to rebuild the model and restore the weights from the checkpoint.\n"
      ]
    },
    {
      "cell_type": "code",
      "execution_count": null,
      "metadata": {
        "colab": {
          "base_uri": "https://localhost:8080/",
          "height": 36
        },
        "id": "zk2WJ2-XjkGz",
        "outputId": "97bc1197-7fe8-44c9-ff2e-fa43d57a951d"
      },
      "outputs": [
        {
          "output_type": "execute_result",
          "data": {
            "text/plain": [
              "'./training_checkpoints/ckpt_100'"
            ],
            "application/vnd.google.colaboratory.intrinsic+json": {
              "type": "string"
            }
          },
          "metadata": {},
          "execution_count": 30
        }
      ],
      "source": [
        "tf.train.latest_checkpoint(checkpoint_dir)"
      ]
    },
    {
      "cell_type": "code",
      "execution_count": null,
      "metadata": {
        "id": "LycQ-ot_jjyu"
      },
      "outputs": [],
      "source": [
        "model = build_model(vocab_size, embedding_dim, rnn_units, batch_size=1)\n",
        "\n",
        "model.load_weights(tf.train.latest_checkpoint(checkpoint_dir))\n",
        "\n",
        "model.build(tf.TensorShape([1, None]))"
      ]
    },
    {
      "cell_type": "code",
      "execution_count": null,
      "metadata": {
        "colab": {
          "base_uri": "https://localhost:8080/"
        },
        "id": "71xa6jnYVrAN",
        "outputId": "0f614a02-d670-42ff-bdf8-8a79715e0adf"
      },
      "outputs": [
        {
          "output_type": "stream",
          "name": "stdout",
          "text": [
            "Model: \"sequential_1\"\n",
            "_________________________________________________________________\n",
            " Layer (type)                Output Shape              Param #   \n",
            "=================================================================\n",
            " embedding_1 (Embedding)     (1, None, 256)            12288     \n",
            "                                                                 \n",
            " gru_1 (GRU)                 (1, None, 1024)           3938304   \n",
            "                                                                 \n",
            " dense_1 (Dense)             (1, None, 48)             49200     \n",
            "                                                                 \n",
            "=================================================================\n",
            "Total params: 3,999,792\n",
            "Trainable params: 3,999,792\n",
            "Non-trainable params: 0\n",
            "_________________________________________________________________\n"
          ]
        }
      ],
      "source": [
        "model.summary()"
      ]
    },
    {
      "cell_type": "markdown",
      "metadata": {
        "id": "DjGz1tDkzf-u"
      },
      "source": [
        "### The prediction loop\n",
        "\n",
        "The following code block generates the text:\n",
        "\n",
        "* It Starts by choosing a start string, initializing the RNN state and setting the number of characters to generate.\n",
        "\n",
        "* Get the prediction distribution of the next character using the start string and the RNN state.\n",
        "\n",
        "* Then, use a multinomial distribution to calculate the index of the predicted character. Use this predicted character as our next input to the model.\n",
        "\n",
        "* The RNN state returned by the model is fed back into the model so that it now has more context, instead than only one word. After predicting the next word, the modified RNN states are again fed back into the model, which is how it learns as it gets more context from the previously predicted words.\n",
        "\n",
        "\n",
        "![To generate text the model's output is fed back to the input](https://tensorflow.org/tutorials/sequences/images/text_generation_sampling.png)\n",
        "\n",
        "Looking at the generated text, you'll see the model knows when to capitalize, make paragraphs and imitates a Shakespeare-like writing vocabulary. With the small number of training epochs, it has not yet learned to form coherent sentences."
      ]
    },
    {
      "cell_type": "code",
      "execution_count": null,
      "metadata": {
        "id": "WvuwZBX5Ogfd"
      },
      "outputs": [],
      "source": [
        "def generate_text(model, start_string):\n",
        "  # Evaluation step (generating text using the learned model)\n",
        "\n",
        "  # Number of characters to generate\n",
        "  num_generate = 500\n",
        "\n",
        "  # Converting our start string to numbers (vectorizing)\n",
        "  input_eval = [char2idx[s] for s in start_string]\n",
        "  input_eval = tf.expand_dims(input_eval, 0)\n",
        "\n",
        "  # Empty string to store our results\n",
        "  text_generated = []\n",
        "\n",
        "  # Low temperatures results in more predictable text.\n",
        "  # Higher temperatures results in more surprising text.\n",
        "  # Experiment to find the best setting.\n",
        "  temperature = 1.0\n",
        "\n",
        "  # Here batch size == 1\n",
        "  model.reset_states()\n",
        "  for i in range(num_generate):\n",
        "      predictions = model(input_eval)\n",
        "      # remove the batch dimension\n",
        "      predictions = tf.squeeze(predictions, 0)\n",
        "\n",
        "      # using a multinomial distribution to predict the word returned by the model\n",
        "      predictions = predictions / temperature\n",
        "      predicted_id = tf.random.categorical(predictions, num_samples=1)[-1,0].numpy()\n",
        "      #print(tf.multinomial(predictions, num_samples=1).shape)\n",
        "      # We pass the predicted word as the next input to the model\n",
        "      # along with the previous hidden state\n",
        "      input_eval = tf.expand_dims([predicted_id], 0)\n",
        "\n",
        "      text_generated.append(idx2char[predicted_id])\n",
        "\n",
        "  return (start_string + ''.join(text_generated))"
      ]
    },
    {
      "cell_type": "code",
      "execution_count": null,
      "metadata": {
        "colab": {
          "base_uri": "https://localhost:8080/"
        },
        "id": "ktovv0RFhrkn",
        "outputId": "400daa69-5d0e-4b52-da94-3a5fef141eff"
      },
      "outputs": [
        {
          "output_type": "stream",
          "name": "stdout",
          "text": [
            "الا يا ايها الساقی ادر کاسا و ناولها کنم\n",
            "ابروی عندليبش\n",
            "تندی گر نظر بر هجر تکرت است که صوفی داشت\n",
            "اگر ز رسيدی و مرغ سهی بشين و شمت\n",
            "نعد بگردد و سلطنت نگار شم\n",
            "هر که در اين پرده نزنم سر ما و دارا\n",
            "دلت برانک می برون را چه مدارد انگيش\n",
            "که گويی نبرتيده‌ام به دام است و خواب می‌زدم\n",
            "وز دور طرب آری ز مسکينه ديگرفتار\n",
            "کمان ابروی جانان گشاده در کنار داشت\n",
            "گفتم ره نشينه تا تازيرت درازم بنشست\n",
            "کس نکردی کنيم و مار و جان و زلف نگار تو\n",
            "حيرتم که ببويد به دربانه مرام است\n",
            "در خنمه چنگست\n",
            "جام می گل کن که پرس به خون بگذرد\n",
            "که به جام بی‌دل خم جهان را چو شمع\n",
            "غريب \n"
          ]
        }
      ],
      "source": [
        "generate_poetry = generate_text(model, start_string=u\"الا يا ايها الساقی ادر کاسا و ناولها\")\n",
        "print(generate_poetry)"
      ]
    },
    {
      "cell_type": "code",
      "execution_count": null,
      "metadata": {
        "colab": {
          "base_uri": "https://localhost:8080/"
        },
        "id": "p751LCLROQYo",
        "outputId": "8047d97d-7e52-402f-9425-031c94e7c8e9"
      },
      "outputs": [
        {
          "output_type": "stream",
          "name": "stderr",
          "text": [
            "WARNING:tensorflow:Compiled the loaded model, but the compiled metrics have yet to be built. `model.compile_metrics` will be empty until you train or evaluate the model.\n"
          ]
        }
      ],
      "source": [
        "model.save('keras.h5')"
      ]
    },
    {
      "cell_type": "code",
      "source": [
        "from sklearn.metrics.pairwise import cosine_similarity\n",
        "from sklearn.feature_extraction.text import TfidfVectorizer\n",
        "\n",
        "# Real poems\n",
        "real_poems = [\n",
        "    'الا يا ايها الساقی ادر کاسا و ناولها',\n",
        "    'که عشق آسان نمود اول ولی افتاد مشکل‌ها',\n",
        "    'به بوی نافه‌ای کاخر صبا زان طره بگشايد',\n",
        "    'ز تاب جعد مشکينش چه خون افتاد در دل‌ها',\n",
        "    'مرا در منزل جانان چه امن عيش چون هر دم',\n",
        "    'جرس فرياد می‌دارد که بربنديد محمل‌ها',\n",
        "    'به می سجاده رنگين کن گرت پير مغان گويد',\n",
        "    'که سالک بی‌خبر نبود ز راه و رسم منزل‌ها',\n",
        "    'شب تاريک و بيم موج و گردابی چنين هايل',\n",
        "    'کجا دانند حال ما سبکباران ساحل‌ها',\n",
        "    'همه کارم ز خود کامی به بدنامی کشيد آخر',\n",
        "    'نهان کی ماند آن رازی کز او سازند محفل‌ها',\n",
        "]\n",
        "\n",
        "# Generate poetry\n",
        "generated_text = generate_text(model, start_string=u\"الا يا ايها الساقی ادر کاسا و ناولها\")\n",
        "\n"
      ],
      "metadata": {
        "id": "q5v_vyGpDyP3"
      },
      "execution_count": null,
      "outputs": []
    },
    {
      "cell_type": "code",
      "source": [
        "generated_text = generated_text.split('\\n')"
      ],
      "metadata": {
        "id": "fqzObJkrM_D8"
      },
      "execution_count": null,
      "outputs": []
    },
    {
      "cell_type": "code",
      "source": [
        "# Vectorize the real poems\n",
        "vectorizer = TfidfVectorizer()\n",
        "real_poems_vectors = vectorizer.fit_transform(real_poems)\n",
        "\n",
        "# Vectorize the generated poem\n",
        "generated_vector = vectorizer.transform(generated_text)\n",
        "\n",
        "# Calculate cosine similarity between generated poem and real poems\n",
        "similarity_scores = cosine_similarity(generated_vector, real_poems_vectors)\n",
        "\n",
        "average_similarity_score = sum(similarity_scores) / len(similarity_scores)\n",
        "\n",
        "# Get the most similar real poem\n",
        "most_similar_index = np.argmax(average_similarity_score)\n",
        "most_similar_poem = real_poems[most_similar_index]\n",
        "\n",
        "print(\"Generated Poem:\\n\", generated_text)\n",
        "print(\"Most Similar Real Poem:\\n\", most_similar_poem)\n",
        "print(\"Cosine Similarity Score of most similar poem:\", average_similarity_score[most_similar_index])\n",
        "print(\"Cosine Similarity Score:\", average_similarity_score)"
      ],
      "metadata": {
        "id": "_Ei5zp45IHtm",
        "outputId": "d835ce67-fbfe-4fd5-9062-8a468e87e8af",
        "colab": {
          "base_uri": "https://localhost:8080/"
        }
      },
      "execution_count": null,
      "outputs": [
        {
          "output_type": "stream",
          "name": "stdout",
          "text": [
            "Generated Poem:\n",
            " ['الا يا ايها الساقی ادر کاسا و ناولهاست', 'برفکن حافظ جام زه می\\u200cآيد فيض ازل', 'به پياهی که اين\\u200cهاست نباشد', 'با کار خود باشم ز باغ عيش يک جم شد', 'اين آبثان که دعا رود گرفته چو داری', 'مکن به چنگ مرد خاک نفس باده فروش', 'کان عالم و رندان به سر رفتم بدان سانگ کش', 'تا به ابد او دلم کز سخت بی\\u200cنبارد دگر بينشته', 'و اندر گل بدين شاه درست', 'با آنم نگردد گدای عارض فضول', 'چون باد صبا گوش به تو زان لب شيرين کارگاه کم', 'ز روی طاعت و اين راه خبرند چنگ و رباب باد', 'خواه شمشيد و گدا می\\u200cشتفتم بی\\u200cبها کرد', 'غزل    ۱۷۹', 'سرود عقل بر سر کو فرق از بطرض دوست', 'به کوک مکن که ديد ار درياب ']\n",
            "Most Similar Real Poem:\n",
            " به می سجاده رنگين کن گرت پير مغان گويد\n",
            "Cosine Similarity Score of most similar poem: 0.10008756944085351\n",
            "Cosine Similarity Score: [0.05786376 0.04143822 0.09084686 0.         0.02545009 0.07887823\n",
            " 0.10008757 0.09319273 0.         0.         0.0886961  0.0216562 ]\n"
          ]
        }
      ]
    }
  ]
}